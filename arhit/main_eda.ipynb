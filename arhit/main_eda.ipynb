{
 "metadata": {
  "language_info": {
   "codemirror_mode": {
    "name": "ipython",
    "version": 3
   },
   "file_extension": ".py",
   "mimetype": "text/x-python",
   "name": "python",
   "nbconvert_exporter": "python",
   "pygments_lexer": "ipython3",
   "version": "3.8.3-final"
  },
  "orig_nbformat": 2,
  "kernelspec": {
   "name": "python3",
   "display_name": "Python 3",
   "language": "python"
  }
 },
 "nbformat": 4,
 "nbformat_minor": 2,
 "cells": [
  {
   "cell_type": "code",
   "execution_count": 25,
   "metadata": {},
   "outputs": [],
   "source": [
    "import numpy as np\n",
    "import pandas as pd\n",
    "import matplotlib.pyplot as plt\n",
    "plt.style.use('dark_background')\n",
    "import seaborn as sns\n",
    "sns.set_style('darkgrid')\n",
    "from sklearn.linear_model import LinearRegression\n",
    "%matplotlib inline"
   ]
  },
  {
   "cell_type": "code",
   "execution_count": 4,
   "metadata": {},
   "outputs": [],
   "source": [
    "df = pd.read_csv('netfilx.csv', encoding='latin-1')"
   ]
  },
  {
   "cell_type": "code",
   "execution_count": 5,
   "metadata": {},
   "outputs": [
    {
     "output_type": "execute_result",
     "data": {
      "text/plain": [
       "                       title rating  \\\n",
       "0               White Chicks  PG-13   \n",
       "1        Lucky Number Slevin      R   \n",
       "2             Grey's Anatomy  TV-14   \n",
       "3               Prison Break  TV-14   \n",
       "4      How I Met Your Mother  TV-PG   \n",
       "..                       ...    ...   \n",
       "995                  The BFG     PG   \n",
       "996  The Secret Life of Pets     PG   \n",
       "997         Precious Puppies   TV-G   \n",
       "998              Beary Tales   TV-G   \n",
       "999          Growing Up Wild      G   \n",
       "\n",
       "                                           ratingLevel  ratingDescription  \\\n",
       "0    crude and sexual humor, language and some drug...                 80   \n",
       "1    strong violence, sexual content and adult lang...                100   \n",
       "2    Parents strongly cautioned. May be unsuitable ...                 90   \n",
       "3    Parents strongly cautioned. May be unsuitable ...                 90   \n",
       "4    Parental guidance suggested. May not be suitab...                 70   \n",
       "..                                                 ...                ...   \n",
       "995  for action/peril, some scary moments and brief...                 60   \n",
       "996                     for action and some rude humor                 60   \n",
       "997                             Suitable for all ages.                 35   \n",
       "998                             Suitable for all ages.                 35   \n",
       "999                                                NaN                 35   \n",
       "\n",
       "     release year  user rating score  user rating size  \n",
       "0            2004               82.0                80  \n",
       "1            2006                NaN                82  \n",
       "2            2016               98.0                80  \n",
       "3            2008               98.0                80  \n",
       "4            2014               94.0                80  \n",
       "..            ...                ...               ...  \n",
       "995          2016               97.0                80  \n",
       "996          2016                NaN                81  \n",
       "997          2003                NaN                82  \n",
       "998          2013                NaN                82  \n",
       "999          2016               80.0                80  \n",
       "\n",
       "[1000 rows x 7 columns]"
      ],
      "text/html": "<div>\n<style scoped>\n    .dataframe tbody tr th:only-of-type {\n        vertical-align: middle;\n    }\n\n    .dataframe tbody tr th {\n        vertical-align: top;\n    }\n\n    .dataframe thead th {\n        text-align: right;\n    }\n</style>\n<table border=\"1\" class=\"dataframe\">\n  <thead>\n    <tr style=\"text-align: right;\">\n      <th></th>\n      <th>title</th>\n      <th>rating</th>\n      <th>ratingLevel</th>\n      <th>ratingDescription</th>\n      <th>release year</th>\n      <th>user rating score</th>\n      <th>user rating size</th>\n    </tr>\n  </thead>\n  <tbody>\n    <tr>\n      <th>0</th>\n      <td>White Chicks</td>\n      <td>PG-13</td>\n      <td>crude and sexual humor, language and some drug...</td>\n      <td>80</td>\n      <td>2004</td>\n      <td>82.0</td>\n      <td>80</td>\n    </tr>\n    <tr>\n      <th>1</th>\n      <td>Lucky Number Slevin</td>\n      <td>R</td>\n      <td>strong violence, sexual content and adult lang...</td>\n      <td>100</td>\n      <td>2006</td>\n      <td>NaN</td>\n      <td>82</td>\n    </tr>\n    <tr>\n      <th>2</th>\n      <td>Grey's Anatomy</td>\n      <td>TV-14</td>\n      <td>Parents strongly cautioned. May be unsuitable ...</td>\n      <td>90</td>\n      <td>2016</td>\n      <td>98.0</td>\n      <td>80</td>\n    </tr>\n    <tr>\n      <th>3</th>\n      <td>Prison Break</td>\n      <td>TV-14</td>\n      <td>Parents strongly cautioned. May be unsuitable ...</td>\n      <td>90</td>\n      <td>2008</td>\n      <td>98.0</td>\n      <td>80</td>\n    </tr>\n    <tr>\n      <th>4</th>\n      <td>How I Met Your Mother</td>\n      <td>TV-PG</td>\n      <td>Parental guidance suggested. May not be suitab...</td>\n      <td>70</td>\n      <td>2014</td>\n      <td>94.0</td>\n      <td>80</td>\n    </tr>\n    <tr>\n      <th>...</th>\n      <td>...</td>\n      <td>...</td>\n      <td>...</td>\n      <td>...</td>\n      <td>...</td>\n      <td>...</td>\n      <td>...</td>\n    </tr>\n    <tr>\n      <th>995</th>\n      <td>The BFG</td>\n      <td>PG</td>\n      <td>for action/peril, some scary moments and brief...</td>\n      <td>60</td>\n      <td>2016</td>\n      <td>97.0</td>\n      <td>80</td>\n    </tr>\n    <tr>\n      <th>996</th>\n      <td>The Secret Life of Pets</td>\n      <td>PG</td>\n      <td>for action and some rude humor</td>\n      <td>60</td>\n      <td>2016</td>\n      <td>NaN</td>\n      <td>81</td>\n    </tr>\n    <tr>\n      <th>997</th>\n      <td>Precious Puppies</td>\n      <td>TV-G</td>\n      <td>Suitable for all ages.</td>\n      <td>35</td>\n      <td>2003</td>\n      <td>NaN</td>\n      <td>82</td>\n    </tr>\n    <tr>\n      <th>998</th>\n      <td>Beary Tales</td>\n      <td>TV-G</td>\n      <td>Suitable for all ages.</td>\n      <td>35</td>\n      <td>2013</td>\n      <td>NaN</td>\n      <td>82</td>\n    </tr>\n    <tr>\n      <th>999</th>\n      <td>Growing Up Wild</td>\n      <td>G</td>\n      <td>NaN</td>\n      <td>35</td>\n      <td>2016</td>\n      <td>80.0</td>\n      <td>80</td>\n    </tr>\n  </tbody>\n</table>\n<p>1000 rows × 7 columns</p>\n</div>"
     },
     "metadata": {},
     "execution_count": 5
    }
   ],
   "source": [
    "df"
   ]
  },
  {
   "cell_type": "code",
   "execution_count": 19,
   "metadata": {},
   "outputs": [
    {
     "output_type": "execute_result",
     "data": {
      "text/plain": [
       "False"
      ]
     },
     "metadata": {},
     "execution_count": 19
    }
   ],
   "source": [
    "df = df.drop_duplicates() \n",
    "df.duplicated().values.any()"
   ]
  },
  {
   "cell_type": "code",
   "execution_count": 10,
   "metadata": {},
   "outputs": [
    {
     "output_type": "execute_result",
     "data": {
      "text/plain": [
       "                         title rating  \\\n",
       "0                 White Chicks  PG-13   \n",
       "1          Lucky Number Slevin      R   \n",
       "2               Grey's Anatomy  TV-14   \n",
       "3                 Prison Break  TV-14   \n",
       "4        How I Met Your Mother  TV-PG   \n",
       "..                         ...    ...   \n",
       "989            Russell Madness     PG   \n",
       "993  Wiener Dog Internationals      G   \n",
       "994                   Pup Star      G   \n",
       "997           Precious Puppies   TV-G   \n",
       "998                Beary Tales   TV-G   \n",
       "\n",
       "                                           ratingLevel  ratingDescription  \\\n",
       "0    crude and sexual humor, language and some drug...                 80   \n",
       "1    strong violence, sexual content and adult lang...                100   \n",
       "2    Parents strongly cautioned. May be unsuitable ...                 90   \n",
       "3    Parents strongly cautioned. May be unsuitable ...                 90   \n",
       "4    Parental guidance suggested. May not be suitab...                 70   \n",
       "..                                                 ...                ...   \n",
       "989                  some rude humor and sports action                 60   \n",
       "993          General Audiences. Suitable for all ages.                 35   \n",
       "994          General Audiences. Suitable for all ages.                 35   \n",
       "997                             Suitable for all ages.                 35   \n",
       "998                             Suitable for all ages.                 35   \n",
       "\n",
       "     release year  user rating score  user rating size  \n",
       "0            2004               82.0                80  \n",
       "1            2006               82.0                82  \n",
       "2            2016               98.0                80  \n",
       "3            2008               98.0                80  \n",
       "4            2014               94.0                80  \n",
       "..            ...                ...               ...  \n",
       "989          2015               74.0                82  \n",
       "993          2015               74.0                82  \n",
       "994          2016               74.0                82  \n",
       "997          2003               74.0                82  \n",
       "998          2013               74.0                82  \n",
       "\n",
       "[500 rows x 7 columns]"
      ],
      "text/html": "<div>\n<style scoped>\n    .dataframe tbody tr th:only-of-type {\n        vertical-align: middle;\n    }\n\n    .dataframe tbody tr th {\n        vertical-align: top;\n    }\n\n    .dataframe thead th {\n        text-align: right;\n    }\n</style>\n<table border=\"1\" class=\"dataframe\">\n  <thead>\n    <tr style=\"text-align: right;\">\n      <th></th>\n      <th>title</th>\n      <th>rating</th>\n      <th>ratingLevel</th>\n      <th>ratingDescription</th>\n      <th>release year</th>\n      <th>user rating score</th>\n      <th>user rating size</th>\n    </tr>\n  </thead>\n  <tbody>\n    <tr>\n      <th>0</th>\n      <td>White Chicks</td>\n      <td>PG-13</td>\n      <td>crude and sexual humor, language and some drug...</td>\n      <td>80</td>\n      <td>2004</td>\n      <td>82.0</td>\n      <td>80</td>\n    </tr>\n    <tr>\n      <th>1</th>\n      <td>Lucky Number Slevin</td>\n      <td>R</td>\n      <td>strong violence, sexual content and adult lang...</td>\n      <td>100</td>\n      <td>2006</td>\n      <td>82.0</td>\n      <td>82</td>\n    </tr>\n    <tr>\n      <th>2</th>\n      <td>Grey's Anatomy</td>\n      <td>TV-14</td>\n      <td>Parents strongly cautioned. May be unsuitable ...</td>\n      <td>90</td>\n      <td>2016</td>\n      <td>98.0</td>\n      <td>80</td>\n    </tr>\n    <tr>\n      <th>3</th>\n      <td>Prison Break</td>\n      <td>TV-14</td>\n      <td>Parents strongly cautioned. May be unsuitable ...</td>\n      <td>90</td>\n      <td>2008</td>\n      <td>98.0</td>\n      <td>80</td>\n    </tr>\n    <tr>\n      <th>4</th>\n      <td>How I Met Your Mother</td>\n      <td>TV-PG</td>\n      <td>Parental guidance suggested. May not be suitab...</td>\n      <td>70</td>\n      <td>2014</td>\n      <td>94.0</td>\n      <td>80</td>\n    </tr>\n    <tr>\n      <th>...</th>\n      <td>...</td>\n      <td>...</td>\n      <td>...</td>\n      <td>...</td>\n      <td>...</td>\n      <td>...</td>\n      <td>...</td>\n    </tr>\n    <tr>\n      <th>989</th>\n      <td>Russell Madness</td>\n      <td>PG</td>\n      <td>some rude humor and sports action</td>\n      <td>60</td>\n      <td>2015</td>\n      <td>74.0</td>\n      <td>82</td>\n    </tr>\n    <tr>\n      <th>993</th>\n      <td>Wiener Dog Internationals</td>\n      <td>G</td>\n      <td>General Audiences. Suitable for all ages.</td>\n      <td>35</td>\n      <td>2015</td>\n      <td>74.0</td>\n      <td>82</td>\n    </tr>\n    <tr>\n      <th>994</th>\n      <td>Pup Star</td>\n      <td>G</td>\n      <td>General Audiences. Suitable for all ages.</td>\n      <td>35</td>\n      <td>2016</td>\n      <td>74.0</td>\n      <td>82</td>\n    </tr>\n    <tr>\n      <th>997</th>\n      <td>Precious Puppies</td>\n      <td>TV-G</td>\n      <td>Suitable for all ages.</td>\n      <td>35</td>\n      <td>2003</td>\n      <td>74.0</td>\n      <td>82</td>\n    </tr>\n    <tr>\n      <th>998</th>\n      <td>Beary Tales</td>\n      <td>TV-G</td>\n      <td>Suitable for all ages.</td>\n      <td>35</td>\n      <td>2013</td>\n      <td>74.0</td>\n      <td>82</td>\n    </tr>\n  </tbody>\n</table>\n<p>500 rows × 7 columns</p>\n</div>"
     },
     "metadata": {},
     "execution_count": 10
    }
   ],
   "source": [
    "df = df.fillna(method=\"ffill\")\n",
    "df"
   ]
  },
  {
   "cell_type": "code",
   "execution_count": 15,
   "metadata": {},
   "outputs": [
    {
     "output_type": "execute_result",
     "data": {
      "text/plain": [
       "<bound method DataFrame.any of      title  rating  ratingLevel  ratingDescription  release year  \\\n",
       "0    False   False        False              False         False   \n",
       "1    False   False        False              False         False   \n",
       "2    False   False        False              False         False   \n",
       "3    False   False        False              False         False   \n",
       "4    False   False        False              False         False   \n",
       "..     ...     ...          ...                ...           ...   \n",
       "989  False   False        False              False         False   \n",
       "993  False   False        False              False         False   \n",
       "994  False   False        False              False         False   \n",
       "997  False   False        False              False         False   \n",
       "998  False   False        False              False         False   \n",
       "\n",
       "     user rating score  user rating size  \n",
       "0                False             False  \n",
       "1                False             False  \n",
       "2                False             False  \n",
       "3                False             False  \n",
       "4                False             False  \n",
       "..                 ...               ...  \n",
       "989              False             False  \n",
       "993              False             False  \n",
       "994              False             False  \n",
       "997              False             False  \n",
       "998              False             False  \n",
       "\n",
       "[500 rows x 7 columns]>"
      ]
     },
     "metadata": {},
     "execution_count": 15
    }
   ],
   "source": [
    "pd.isnull(df).any  # Checking for Null Values"
   ]
  },
  {
   "source": [
    "# Exploratory Data Analysis"
   ],
   "cell_type": "markdown",
   "metadata": {}
  },
  {
   "cell_type": "code",
   "execution_count": 11,
   "metadata": {},
   "outputs": [
    {
     "output_type": "execute_result",
     "data": {
      "text/plain": [
       "                   title rating  \\\n",
       "0           White Chicks  PG-13   \n",
       "1    Lucky Number Slevin      R   \n",
       "2         Grey's Anatomy  TV-14   \n",
       "3           Prison Break  TV-14   \n",
       "4  How I Met Your Mother  TV-PG   \n",
       "\n",
       "                                         ratingLevel  ratingDescription  \\\n",
       "0  crude and sexual humor, language and some drug...                 80   \n",
       "1  strong violence, sexual content and adult lang...                100   \n",
       "2  Parents strongly cautioned. May be unsuitable ...                 90   \n",
       "3  Parents strongly cautioned. May be unsuitable ...                 90   \n",
       "4  Parental guidance suggested. May not be suitab...                 70   \n",
       "\n",
       "   release year  user rating score  user rating size  \n",
       "0          2004               82.0                80  \n",
       "1          2006               82.0                82  \n",
       "2          2016               98.0                80  \n",
       "3          2008               98.0                80  \n",
       "4          2014               94.0                80  "
      ],
      "text/html": "<div>\n<style scoped>\n    .dataframe tbody tr th:only-of-type {\n        vertical-align: middle;\n    }\n\n    .dataframe tbody tr th {\n        vertical-align: top;\n    }\n\n    .dataframe thead th {\n        text-align: right;\n    }\n</style>\n<table border=\"1\" class=\"dataframe\">\n  <thead>\n    <tr style=\"text-align: right;\">\n      <th></th>\n      <th>title</th>\n      <th>rating</th>\n      <th>ratingLevel</th>\n      <th>ratingDescription</th>\n      <th>release year</th>\n      <th>user rating score</th>\n      <th>user rating size</th>\n    </tr>\n  </thead>\n  <tbody>\n    <tr>\n      <th>0</th>\n      <td>White Chicks</td>\n      <td>PG-13</td>\n      <td>crude and sexual humor, language and some drug...</td>\n      <td>80</td>\n      <td>2004</td>\n      <td>82.0</td>\n      <td>80</td>\n    </tr>\n    <tr>\n      <th>1</th>\n      <td>Lucky Number Slevin</td>\n      <td>R</td>\n      <td>strong violence, sexual content and adult lang...</td>\n      <td>100</td>\n      <td>2006</td>\n      <td>82.0</td>\n      <td>82</td>\n    </tr>\n    <tr>\n      <th>2</th>\n      <td>Grey's Anatomy</td>\n      <td>TV-14</td>\n      <td>Parents strongly cautioned. May be unsuitable ...</td>\n      <td>90</td>\n      <td>2016</td>\n      <td>98.0</td>\n      <td>80</td>\n    </tr>\n    <tr>\n      <th>3</th>\n      <td>Prison Break</td>\n      <td>TV-14</td>\n      <td>Parents strongly cautioned. May be unsuitable ...</td>\n      <td>90</td>\n      <td>2008</td>\n      <td>98.0</td>\n      <td>80</td>\n    </tr>\n    <tr>\n      <th>4</th>\n      <td>How I Met Your Mother</td>\n      <td>TV-PG</td>\n      <td>Parental guidance suggested. May not be suitab...</td>\n      <td>70</td>\n      <td>2014</td>\n      <td>94.0</td>\n      <td>80</td>\n    </tr>\n  </tbody>\n</table>\n</div>"
     },
     "metadata": {},
     "execution_count": 11
    }
   ],
   "source": [
    "df.head()"
   ]
  },
  {
   "cell_type": "code",
   "execution_count": 12,
   "metadata": {},
   "outputs": [
    {
     "output_type": "execute_result",
     "data": {
      "text/plain": [
       "                         title rating  \\\n",
       "989            Russell Madness     PG   \n",
       "993  Wiener Dog Internationals      G   \n",
       "994                   Pup Star      G   \n",
       "997           Precious Puppies   TV-G   \n",
       "998                Beary Tales   TV-G   \n",
       "\n",
       "                                   ratingLevel  ratingDescription  \\\n",
       "989          some rude humor and sports action                 60   \n",
       "993  General Audiences. Suitable for all ages.                 35   \n",
       "994  General Audiences. Suitable for all ages.                 35   \n",
       "997                     Suitable for all ages.                 35   \n",
       "998                     Suitable for all ages.                 35   \n",
       "\n",
       "     release year  user rating score  user rating size  \n",
       "989          2015               74.0                82  \n",
       "993          2015               74.0                82  \n",
       "994          2016               74.0                82  \n",
       "997          2003               74.0                82  \n",
       "998          2013               74.0                82  "
      ],
      "text/html": "<div>\n<style scoped>\n    .dataframe tbody tr th:only-of-type {\n        vertical-align: middle;\n    }\n\n    .dataframe tbody tr th {\n        vertical-align: top;\n    }\n\n    .dataframe thead th {\n        text-align: right;\n    }\n</style>\n<table border=\"1\" class=\"dataframe\">\n  <thead>\n    <tr style=\"text-align: right;\">\n      <th></th>\n      <th>title</th>\n      <th>rating</th>\n      <th>ratingLevel</th>\n      <th>ratingDescription</th>\n      <th>release year</th>\n      <th>user rating score</th>\n      <th>user rating size</th>\n    </tr>\n  </thead>\n  <tbody>\n    <tr>\n      <th>989</th>\n      <td>Russell Madness</td>\n      <td>PG</td>\n      <td>some rude humor and sports action</td>\n      <td>60</td>\n      <td>2015</td>\n      <td>74.0</td>\n      <td>82</td>\n    </tr>\n    <tr>\n      <th>993</th>\n      <td>Wiener Dog Internationals</td>\n      <td>G</td>\n      <td>General Audiences. Suitable for all ages.</td>\n      <td>35</td>\n      <td>2015</td>\n      <td>74.0</td>\n      <td>82</td>\n    </tr>\n    <tr>\n      <th>994</th>\n      <td>Pup Star</td>\n      <td>G</td>\n      <td>General Audiences. Suitable for all ages.</td>\n      <td>35</td>\n      <td>2016</td>\n      <td>74.0</td>\n      <td>82</td>\n    </tr>\n    <tr>\n      <th>997</th>\n      <td>Precious Puppies</td>\n      <td>TV-G</td>\n      <td>Suitable for all ages.</td>\n      <td>35</td>\n      <td>2003</td>\n      <td>74.0</td>\n      <td>82</td>\n    </tr>\n    <tr>\n      <th>998</th>\n      <td>Beary Tales</td>\n      <td>TV-G</td>\n      <td>Suitable for all ages.</td>\n      <td>35</td>\n      <td>2013</td>\n      <td>74.0</td>\n      <td>82</td>\n    </tr>\n  </tbody>\n</table>\n</div>"
     },
     "metadata": {},
     "execution_count": 12
    }
   ],
   "source": [
    "df.tail()"
   ]
  },
  {
   "cell_type": "code",
   "execution_count": 13,
   "metadata": {},
   "outputs": [
    {
     "output_type": "execute_result",
     "data": {
      "text/plain": [
       "       ratingDescription  release year  user rating score  user rating size\n",
       "count         500.000000    500.000000          500.00000        500.000000\n",
       "mean           68.754000   2010.976000           78.35400         80.972000\n",
       "std            31.505089      7.829305           12.47204          0.998604\n",
       "min            10.000000   1940.000000           55.00000         80.000000\n",
       "25%            41.000000   2009.000000           70.00000         80.000000\n",
       "50%            70.000000   2014.000000           79.00000         80.000000\n",
       "75%            90.000000   2016.000000           90.00000         82.000000\n",
       "max           124.000000   2017.000000           99.00000         82.000000"
      ],
      "text/html": "<div>\n<style scoped>\n    .dataframe tbody tr th:only-of-type {\n        vertical-align: middle;\n    }\n\n    .dataframe tbody tr th {\n        vertical-align: top;\n    }\n\n    .dataframe thead th {\n        text-align: right;\n    }\n</style>\n<table border=\"1\" class=\"dataframe\">\n  <thead>\n    <tr style=\"text-align: right;\">\n      <th></th>\n      <th>ratingDescription</th>\n      <th>release year</th>\n      <th>user rating score</th>\n      <th>user rating size</th>\n    </tr>\n  </thead>\n  <tbody>\n    <tr>\n      <th>count</th>\n      <td>500.000000</td>\n      <td>500.000000</td>\n      <td>500.00000</td>\n      <td>500.000000</td>\n    </tr>\n    <tr>\n      <th>mean</th>\n      <td>68.754000</td>\n      <td>2010.976000</td>\n      <td>78.35400</td>\n      <td>80.972000</td>\n    </tr>\n    <tr>\n      <th>std</th>\n      <td>31.505089</td>\n      <td>7.829305</td>\n      <td>12.47204</td>\n      <td>0.998604</td>\n    </tr>\n    <tr>\n      <th>min</th>\n      <td>10.000000</td>\n      <td>1940.000000</td>\n      <td>55.00000</td>\n      <td>80.000000</td>\n    </tr>\n    <tr>\n      <th>25%</th>\n      <td>41.000000</td>\n      <td>2009.000000</td>\n      <td>70.00000</td>\n      <td>80.000000</td>\n    </tr>\n    <tr>\n      <th>50%</th>\n      <td>70.000000</td>\n      <td>2014.000000</td>\n      <td>79.00000</td>\n      <td>80.000000</td>\n    </tr>\n    <tr>\n      <th>75%</th>\n      <td>90.000000</td>\n      <td>2016.000000</td>\n      <td>90.00000</td>\n      <td>82.000000</td>\n    </tr>\n    <tr>\n      <th>max</th>\n      <td>124.000000</td>\n      <td>2017.000000</td>\n      <td>99.00000</td>\n      <td>82.000000</td>\n    </tr>\n  </tbody>\n</table>\n</div>"
     },
     "metadata": {},
     "execution_count": 13
    }
   ],
   "source": [
    "df.describe()"
   ]
  },
  {
   "cell_type": "code",
   "execution_count": 14,
   "metadata": {},
   "outputs": [
    {
     "output_type": "stream",
     "name": "stdout",
     "text": [
      "<class 'pandas.core.frame.DataFrame'>\nInt64Index: 500 entries, 0 to 998\nData columns (total 7 columns):\n #   Column             Non-Null Count  Dtype  \n---  ------             --------------  -----  \n 0   title              500 non-null    object \n 1   rating             500 non-null    object \n 2   ratingLevel        500 non-null    object \n 3   ratingDescription  500 non-null    int64  \n 4   release year       500 non-null    int64  \n 5   user rating score  500 non-null    float64\n 6   user rating size   500 non-null    int64  \ndtypes: float64(1), int64(3), object(3)\nmemory usage: 51.2+ KB\n"
     ]
    }
   ],
   "source": [
    "df.info()"
   ]
  },
  {
   "cell_type": "code",
   "execution_count": 17,
   "metadata": {},
   "outputs": [
    {
     "output_type": "execute_result",
     "data": {
      "text/plain": [
       "(500, 7)"
      ]
     },
     "metadata": {},
     "execution_count": 17
    }
   ],
   "source": [
    "df.shape"
   ]
  },
  {
   "cell_type": "code",
   "execution_count": 18,
   "metadata": {},
   "outputs": [
    {
     "output_type": "execute_result",
     "data": {
      "text/plain": [
       "Index(['title', 'rating', 'ratingLevel', 'ratingDescription', 'release year',\n",
       "       'user rating score', 'user rating size'],\n",
       "      dtype='object')"
      ]
     },
     "metadata": {},
     "execution_count": 18
    }
   ],
   "source": [
    "df.columns"
   ]
  },
  {
   "source": [
    "## Visualizing Data"
   ],
   "cell_type": "markdown",
   "metadata": {}
  },
  {
   "source": [
    "### How  many shows are there in Netflix Shows Dataset? "
   ],
   "cell_type": "markdown",
   "metadata": {}
  },
  {
   "cell_type": "code",
   "execution_count": 23,
   "metadata": {},
   "outputs": [
    {
     "output_type": "execute_result",
     "data": {
      "text/plain": [
       "500"
      ]
     },
     "metadata": {},
     "execution_count": 23
    }
   ],
   "source": [
    "df['title'].count()"
   ]
  },
  {
   "source": [
    "We are analyzing 500 netflix shows in this dataset across 7 features"
   ],
   "cell_type": "markdown",
   "metadata": {}
  },
  {
   "source": [
    "### How many Netflix shows are produced each year?"
   ],
   "cell_type": "markdown",
   "metadata": {}
  },
  {
   "cell_type": "code",
   "execution_count": 27,
   "metadata": {},
   "outputs": [
    {
     "output_type": "display_data",
     "data": {
      "text/plain": "<Figure size 1296x720 with 1 Axes>",
      "image/svg+xml": "<?xml version=\"1.0\" encoding=\"utf-8\" standalone=\"no\"?>\r\n<!DOCTYPE svg PUBLIC \"-//W3C//DTD SVG 1.1//EN\"\r\n  \"http://www.w3.org/Graphics/SVG/1.1/DTD/svg11.dtd\">\r\n<!-- Created with matplotlib (https://matplotlib.org/) -->\r\n<svg height=\"592.777812pt\" version=\"1.1\" viewBox=\"0 0 1062.157613 592.777812\" width=\"1062.157613pt\" xmlns=\"http://www.w3.org/2000/svg\" xmlns:xlink=\"http://www.w3.org/1999/xlink\">\r\n <defs>\r\n  <style type=\"text/css\">\r\n*{stroke-linecap:butt;stroke-linejoin:round;}\r\n  </style>\r\n </defs>\r\n <g id=\"figure_1\">\r\n  <g id=\"patch_1\">\r\n   <path d=\"M 0 592.777812 \r\nL 1062.157613 592.777812 \r\nL 1062.157613 0 \r\nL 0 0 \r\nz\r\n\" style=\"fill:none;\"/>\r\n  </g>\r\n  <g id=\"axes_1\">\r\n   <g id=\"patch_2\">\r\n    <path d=\"M 49.515313 550.8 \r\nL 1053.915313 550.8 \r\nL 1053.915313 7.2 \r\nL 49.515313 7.2 \r\nz\r\n\" style=\"fill:#eaeaf2;\"/>\r\n   </g>\r\n   <g id=\"matplotlib.axis_1\">\r\n    <g id=\"xtick_1\">\r\n     <g id=\"line2d_1\">\r\n      <path clip-path=\"url(#p3e4ecc81a7)\" d=\"M 95.169858 550.8 \r\nL 95.169858 7.2 \r\n\" style=\"fill:none;stroke:#ffffff;stroke-linecap:round;stroke-width:0.8;\"/>\r\n     </g>\r\n     <g id=\"text_1\">\r\n      <!-- 1940 -->\r\n      <defs>\r\n       <path d=\"M 37.25 0 \r\nL 28.46875 0 \r\nL 28.46875 56 \r\nQ 25.296875 52.984375 20.140625 49.953125 \r\nQ 14.984375 46.921875 10.890625 45.40625 \r\nL 10.890625 53.90625 \r\nQ 18.265625 57.375 23.78125 62.296875 \r\nQ 29.296875 67.234375 31.59375 71.875 \r\nL 37.25 71.875 \r\nz\r\n\" id=\"ArialMT-49\"/>\r\n       <path d=\"M 5.46875 16.546875 \r\nL 13.921875 17.328125 \r\nQ 14.984375 11.375 18.015625 8.6875 \r\nQ 21.046875 6 25.78125 6 \r\nQ 29.828125 6 32.875 7.859375 \r\nQ 35.9375 9.71875 37.890625 12.8125 \r\nQ 39.84375 15.921875 41.15625 21.1875 \r\nQ 42.484375 26.46875 42.484375 31.9375 \r\nQ 42.484375 32.515625 42.4375 33.6875 \r\nQ 39.796875 29.5 35.234375 26.875 \r\nQ 30.671875 24.265625 25.34375 24.265625 \r\nQ 16.453125 24.265625 10.296875 30.703125 \r\nQ 4.15625 37.15625 4.15625 47.703125 \r\nQ 4.15625 58.59375 10.578125 65.234375 \r\nQ 17 71.875 26.65625 71.875 \r\nQ 33.640625 71.875 39.421875 68.109375 \r\nQ 45.21875 64.359375 48.21875 57.390625 \r\nQ 51.21875 50.4375 51.21875 37.25 \r\nQ 51.21875 23.53125 48.234375 15.40625 \r\nQ 45.265625 7.28125 39.375 3.03125 \r\nQ 33.5 -1.21875 25.59375 -1.21875 \r\nQ 17.1875 -1.21875 11.859375 3.4375 \r\nQ 6.546875 8.109375 5.46875 16.546875 \r\nz\r\nM 41.453125 48.140625 \r\nQ 41.453125 55.71875 37.421875 60.15625 \r\nQ 33.40625 64.59375 27.734375 64.59375 \r\nQ 21.875 64.59375 17.53125 59.8125 \r\nQ 13.1875 55.03125 13.1875 47.40625 \r\nQ 13.1875 40.578125 17.3125 36.296875 \r\nQ 21.4375 32.03125 27.484375 32.03125 \r\nQ 33.59375 32.03125 37.515625 36.296875 \r\nQ 41.453125 40.578125 41.453125 48.140625 \r\nz\r\n\" id=\"ArialMT-57\"/>\r\n       <path d=\"M 32.328125 0 \r\nL 32.328125 17.140625 \r\nL 1.265625 17.140625 \r\nL 1.265625 25.203125 \r\nL 33.9375 71.578125 \r\nL 41.109375 71.578125 \r\nL 41.109375 25.203125 \r\nL 50.78125 25.203125 \r\nL 50.78125 17.140625 \r\nL 41.109375 17.140625 \r\nL 41.109375 0 \r\nz\r\nM 32.328125 25.203125 \r\nL 32.328125 57.46875 \r\nL 9.90625 25.203125 \r\nz\r\n\" id=\"ArialMT-52\"/>\r\n       <path d=\"M 4.15625 35.296875 \r\nQ 4.15625 48 6.765625 55.734375 \r\nQ 9.375 63.484375 14.515625 67.671875 \r\nQ 19.671875 71.875 27.484375 71.875 \r\nQ 33.25 71.875 37.59375 69.546875 \r\nQ 41.9375 67.234375 44.765625 62.859375 \r\nQ 47.609375 58.5 49.21875 52.21875 \r\nQ 50.828125 45.953125 50.828125 35.296875 \r\nQ 50.828125 22.703125 48.234375 14.96875 \r\nQ 45.65625 7.234375 40.5 3 \r\nQ 35.359375 -1.21875 27.484375 -1.21875 \r\nQ 17.140625 -1.21875 11.234375 6.203125 \r\nQ 4.15625 15.140625 4.15625 35.296875 \r\nz\r\nM 13.1875 35.296875 \r\nQ 13.1875 17.671875 17.3125 11.828125 \r\nQ 21.4375 6 27.484375 6 \r\nQ 33.546875 6 37.671875 11.859375 \r\nQ 41.796875 17.71875 41.796875 35.296875 \r\nQ 41.796875 52.984375 37.671875 58.78125 \r\nQ 33.546875 64.59375 27.390625 64.59375 \r\nQ 21.34375 64.59375 17.71875 59.46875 \r\nQ 13.1875 52.9375 13.1875 35.296875 \r\nz\r\n\" id=\"ArialMT-48\"/>\r\n      </defs>\r\n      <g style=\"fill:#262626;\" transform=\"translate(84.047983 564.957812)scale(0.1 -0.1)\">\r\n       <use xlink:href=\"#ArialMT-49\"/>\r\n       <use x=\"55.615234\" xlink:href=\"#ArialMT-57\"/>\r\n       <use x=\"111.230469\" xlink:href=\"#ArialMT-52\"/>\r\n       <use x=\"166.845703\" xlink:href=\"#ArialMT-48\"/>\r\n      </g>\r\n     </g>\r\n    </g>\r\n    <g id=\"xtick_2\">\r\n     <g id=\"line2d_2\">\r\n      <path clip-path=\"url(#p3e4ecc81a7)\" d=\"M 213.753093 550.8 \r\nL 213.753093 7.2 \r\n\" style=\"fill:none;stroke:#ffffff;stroke-linecap:round;stroke-width:0.8;\"/>\r\n     </g>\r\n     <g id=\"text_2\">\r\n      <!-- 1950 -->\r\n      <defs>\r\n       <path d=\"M 4.15625 18.75 \r\nL 13.375 19.53125 \r\nQ 14.40625 12.796875 18.140625 9.390625 \r\nQ 21.875 6 27.15625 6 \r\nQ 33.5 6 37.890625 10.78125 \r\nQ 42.28125 15.578125 42.28125 23.484375 \r\nQ 42.28125 31 38.0625 35.34375 \r\nQ 33.84375 39.703125 27 39.703125 \r\nQ 22.75 39.703125 19.328125 37.765625 \r\nQ 15.921875 35.84375 13.96875 32.765625 \r\nL 5.71875 33.84375 \r\nL 12.640625 70.609375 \r\nL 48.25 70.609375 \r\nL 48.25 62.203125 \r\nL 19.671875 62.203125 \r\nL 15.828125 42.96875 \r\nQ 22.265625 47.46875 29.34375 47.46875 \r\nQ 38.71875 47.46875 45.15625 40.96875 \r\nQ 51.609375 34.46875 51.609375 24.265625 \r\nQ 51.609375 14.546875 45.953125 7.46875 \r\nQ 39.0625 -1.21875 27.15625 -1.21875 \r\nQ 17.390625 -1.21875 11.203125 4.25 \r\nQ 5.03125 9.71875 4.15625 18.75 \r\nz\r\n\" id=\"ArialMT-53\"/>\r\n      </defs>\r\n      <g style=\"fill:#262626;\" transform=\"translate(202.631218 564.957812)scale(0.1 -0.1)\">\r\n       <use xlink:href=\"#ArialMT-49\"/>\r\n       <use x=\"55.615234\" xlink:href=\"#ArialMT-57\"/>\r\n       <use x=\"111.230469\" xlink:href=\"#ArialMT-53\"/>\r\n       <use x=\"166.845703\" xlink:href=\"#ArialMT-48\"/>\r\n      </g>\r\n     </g>\r\n    </g>\r\n    <g id=\"xtick_3\">\r\n     <g id=\"line2d_3\">\r\n      <path clip-path=\"url(#p3e4ecc81a7)\" d=\"M 332.336328 550.8 \r\nL 332.336328 7.2 \r\n\" style=\"fill:none;stroke:#ffffff;stroke-linecap:round;stroke-width:0.8;\"/>\r\n     </g>\r\n     <g id=\"text_3\">\r\n      <!-- 1960 -->\r\n      <defs>\r\n       <path d=\"M 49.75 54.046875 \r\nL 41.015625 53.375 \r\nQ 39.84375 58.546875 37.703125 60.890625 \r\nQ 34.125 64.65625 28.90625 64.65625 \r\nQ 24.703125 64.65625 21.53125 62.3125 \r\nQ 17.390625 59.28125 14.984375 53.46875 \r\nQ 12.59375 47.65625 12.5 36.921875 \r\nQ 15.671875 41.75 20.265625 44.09375 \r\nQ 24.859375 46.4375 29.890625 46.4375 \r\nQ 38.671875 46.4375 44.84375 39.96875 \r\nQ 51.03125 33.5 51.03125 23.25 \r\nQ 51.03125 16.5 48.125 10.71875 \r\nQ 45.21875 4.9375 40.140625 1.859375 \r\nQ 35.0625 -1.21875 28.609375 -1.21875 \r\nQ 17.625 -1.21875 10.6875 6.859375 \r\nQ 3.765625 14.9375 3.765625 33.5 \r\nQ 3.765625 54.25 11.421875 63.671875 \r\nQ 18.109375 71.875 29.4375 71.875 \r\nQ 37.890625 71.875 43.28125 67.140625 \r\nQ 48.6875 62.40625 49.75 54.046875 \r\nz\r\nM 13.875 23.1875 \r\nQ 13.875 18.65625 15.796875 14.5 \r\nQ 17.71875 10.359375 21.1875 8.171875 \r\nQ 24.65625 6 28.46875 6 \r\nQ 34.03125 6 38.03125 10.484375 \r\nQ 42.046875 14.984375 42.046875 22.703125 \r\nQ 42.046875 30.125 38.078125 34.390625 \r\nQ 34.125 38.671875 28.125 38.671875 \r\nQ 22.171875 38.671875 18.015625 34.390625 \r\nQ 13.875 30.125 13.875 23.1875 \r\nz\r\n\" id=\"ArialMT-54\"/>\r\n      </defs>\r\n      <g style=\"fill:#262626;\" transform=\"translate(321.214453 564.957812)scale(0.1 -0.1)\">\r\n       <use xlink:href=\"#ArialMT-49\"/>\r\n       <use x=\"55.615234\" xlink:href=\"#ArialMT-57\"/>\r\n       <use x=\"111.230469\" xlink:href=\"#ArialMT-54\"/>\r\n       <use x=\"166.845703\" xlink:href=\"#ArialMT-48\"/>\r\n      </g>\r\n     </g>\r\n    </g>\r\n    <g id=\"xtick_4\">\r\n     <g id=\"line2d_4\">\r\n      <path clip-path=\"url(#p3e4ecc81a7)\" d=\"M 450.919563 550.8 \r\nL 450.919563 7.2 \r\n\" style=\"fill:none;stroke:#ffffff;stroke-linecap:round;stroke-width:0.8;\"/>\r\n     </g>\r\n     <g id=\"text_4\">\r\n      <!-- 1970 -->\r\n      <defs>\r\n       <path d=\"M 4.734375 62.203125 \r\nL 4.734375 70.65625 \r\nL 51.078125 70.65625 \r\nL 51.078125 63.8125 \r\nQ 44.234375 56.546875 37.515625 44.484375 \r\nQ 30.8125 32.421875 27.15625 19.671875 \r\nQ 24.515625 10.6875 23.78125 0 \r\nL 14.75 0 \r\nQ 14.890625 8.453125 18.0625 20.40625 \r\nQ 21.234375 32.375 27.171875 43.484375 \r\nQ 33.109375 54.59375 39.796875 62.203125 \r\nz\r\n\" id=\"ArialMT-55\"/>\r\n      </defs>\r\n      <g style=\"fill:#262626;\" transform=\"translate(439.797688 564.957812)scale(0.1 -0.1)\">\r\n       <use xlink:href=\"#ArialMT-49\"/>\r\n       <use x=\"55.615234\" xlink:href=\"#ArialMT-57\"/>\r\n       <use x=\"111.230469\" xlink:href=\"#ArialMT-55\"/>\r\n       <use x=\"166.845703\" xlink:href=\"#ArialMT-48\"/>\r\n      </g>\r\n     </g>\r\n    </g>\r\n    <g id=\"xtick_5\">\r\n     <g id=\"line2d_5\">\r\n      <path clip-path=\"url(#p3e4ecc81a7)\" d=\"M 569.502798 550.8 \r\nL 569.502798 7.2 \r\n\" style=\"fill:none;stroke:#ffffff;stroke-linecap:round;stroke-width:0.8;\"/>\r\n     </g>\r\n     <g id=\"text_5\">\r\n      <!-- 1980 -->\r\n      <defs>\r\n       <path d=\"M 17.671875 38.8125 \r\nQ 12.203125 40.828125 9.5625 44.53125 \r\nQ 6.9375 48.25 6.9375 53.421875 \r\nQ 6.9375 61.234375 12.546875 66.546875 \r\nQ 18.171875 71.875 27.484375 71.875 \r\nQ 36.859375 71.875 42.578125 66.421875 \r\nQ 48.296875 60.984375 48.296875 53.171875 \r\nQ 48.296875 48.1875 45.671875 44.5 \r\nQ 43.0625 40.828125 37.75 38.8125 \r\nQ 44.34375 36.671875 47.78125 31.875 \r\nQ 51.21875 27.09375 51.21875 20.453125 \r\nQ 51.21875 11.28125 44.71875 5.03125 \r\nQ 38.234375 -1.21875 27.640625 -1.21875 \r\nQ 17.046875 -1.21875 10.546875 5.046875 \r\nQ 4.046875 11.328125 4.046875 20.703125 \r\nQ 4.046875 27.6875 7.59375 32.390625 \r\nQ 11.140625 37.109375 17.671875 38.8125 \r\nz\r\nM 15.921875 53.71875 \r\nQ 15.921875 48.640625 19.1875 45.40625 \r\nQ 22.46875 42.1875 27.6875 42.1875 \r\nQ 32.765625 42.1875 36.015625 45.375 \r\nQ 39.265625 48.578125 39.265625 53.21875 \r\nQ 39.265625 58.0625 35.90625 61.359375 \r\nQ 32.5625 64.65625 27.59375 64.65625 \r\nQ 22.5625 64.65625 19.234375 61.421875 \r\nQ 15.921875 58.203125 15.921875 53.71875 \r\nz\r\nM 13.09375 20.65625 \r\nQ 13.09375 16.890625 14.875 13.375 \r\nQ 16.65625 9.859375 20.171875 7.921875 \r\nQ 23.6875 6 27.734375 6 \r\nQ 34.03125 6 38.125 10.046875 \r\nQ 42.234375 14.109375 42.234375 20.359375 \r\nQ 42.234375 26.703125 38.015625 30.859375 \r\nQ 33.796875 35.015625 27.4375 35.015625 \r\nQ 21.234375 35.015625 17.15625 30.90625 \r\nQ 13.09375 26.8125 13.09375 20.65625 \r\nz\r\n\" id=\"ArialMT-56\"/>\r\n      </defs>\r\n      <g style=\"fill:#262626;\" transform=\"translate(558.380923 564.957812)scale(0.1 -0.1)\">\r\n       <use xlink:href=\"#ArialMT-49\"/>\r\n       <use x=\"55.615234\" xlink:href=\"#ArialMT-57\"/>\r\n       <use x=\"111.230469\" xlink:href=\"#ArialMT-56\"/>\r\n       <use x=\"166.845703\" xlink:href=\"#ArialMT-48\"/>\r\n      </g>\r\n     </g>\r\n    </g>\r\n    <g id=\"xtick_6\">\r\n     <g id=\"line2d_6\">\r\n      <path clip-path=\"url(#p3e4ecc81a7)\" d=\"M 688.086033 550.8 \r\nL 688.086033 7.2 \r\n\" style=\"fill:none;stroke:#ffffff;stroke-linecap:round;stroke-width:0.8;\"/>\r\n     </g>\r\n     <g id=\"text_6\">\r\n      <!-- 1990 -->\r\n      <g style=\"fill:#262626;\" transform=\"translate(676.964158 564.957812)scale(0.1 -0.1)\">\r\n       <use xlink:href=\"#ArialMT-49\"/>\r\n       <use x=\"55.615234\" xlink:href=\"#ArialMT-57\"/>\r\n       <use x=\"111.230469\" xlink:href=\"#ArialMT-57\"/>\r\n       <use x=\"166.845703\" xlink:href=\"#ArialMT-48\"/>\r\n      </g>\r\n     </g>\r\n    </g>\r\n    <g id=\"xtick_7\">\r\n     <g id=\"line2d_7\">\r\n      <path clip-path=\"url(#p3e4ecc81a7)\" d=\"M 806.669268 550.8 \r\nL 806.669268 7.2 \r\n\" style=\"fill:none;stroke:#ffffff;stroke-linecap:round;stroke-width:0.8;\"/>\r\n     </g>\r\n     <g id=\"text_7\">\r\n      <!-- 2000 -->\r\n      <defs>\r\n       <path d=\"M 50.34375 8.453125 \r\nL 50.34375 0 \r\nL 3.03125 0 \r\nQ 2.9375 3.171875 4.046875 6.109375 \r\nQ 5.859375 10.9375 9.828125 15.625 \r\nQ 13.8125 20.3125 21.34375 26.46875 \r\nQ 33.015625 36.03125 37.109375 41.625 \r\nQ 41.21875 47.21875 41.21875 52.203125 \r\nQ 41.21875 57.421875 37.46875 61 \r\nQ 33.734375 64.59375 27.734375 64.59375 \r\nQ 21.390625 64.59375 17.578125 60.78125 \r\nQ 13.765625 56.984375 13.71875 50.25 \r\nL 4.6875 51.171875 \r\nQ 5.609375 61.28125 11.65625 66.578125 \r\nQ 17.71875 71.875 27.9375 71.875 \r\nQ 38.234375 71.875 44.234375 66.15625 \r\nQ 50.25 60.453125 50.25 52 \r\nQ 50.25 47.703125 48.484375 43.546875 \r\nQ 46.734375 39.40625 42.65625 34.8125 \r\nQ 38.578125 30.21875 29.109375 22.21875 \r\nQ 21.1875 15.578125 18.9375 13.203125 \r\nQ 16.703125 10.84375 15.234375 8.453125 \r\nz\r\n\" id=\"ArialMT-50\"/>\r\n      </defs>\r\n      <g style=\"fill:#262626;\" transform=\"translate(795.547393 564.957812)scale(0.1 -0.1)\">\r\n       <use xlink:href=\"#ArialMT-50\"/>\r\n       <use x=\"55.615234\" xlink:href=\"#ArialMT-48\"/>\r\n       <use x=\"111.230469\" xlink:href=\"#ArialMT-48\"/>\r\n       <use x=\"166.845703\" xlink:href=\"#ArialMT-48\"/>\r\n      </g>\r\n     </g>\r\n    </g>\r\n    <g id=\"xtick_8\">\r\n     <g id=\"line2d_8\">\r\n      <path clip-path=\"url(#p3e4ecc81a7)\" d=\"M 925.252503 550.8 \r\nL 925.252503 7.2 \r\n\" style=\"fill:none;stroke:#ffffff;stroke-linecap:round;stroke-width:0.8;\"/>\r\n     </g>\r\n     <g id=\"text_8\">\r\n      <!-- 2010 -->\r\n      <g style=\"fill:#262626;\" transform=\"translate(914.130628 564.957812)scale(0.1 -0.1)\">\r\n       <use xlink:href=\"#ArialMT-50\"/>\r\n       <use x=\"55.615234\" xlink:href=\"#ArialMT-48\"/>\r\n       <use x=\"111.230469\" xlink:href=\"#ArialMT-49\"/>\r\n       <use x=\"166.845703\" xlink:href=\"#ArialMT-48\"/>\r\n      </g>\r\n     </g>\r\n    </g>\r\n    <g id=\"xtick_9\">\r\n     <g id=\"line2d_9\">\r\n      <path clip-path=\"url(#p3e4ecc81a7)\" d=\"M 1043.835738 550.8 \r\nL 1043.835738 7.2 \r\n\" style=\"fill:none;stroke:#ffffff;stroke-linecap:round;stroke-width:0.8;\"/>\r\n     </g>\r\n     <g id=\"text_9\">\r\n      <!-- 2020 -->\r\n      <g style=\"fill:#262626;\" transform=\"translate(1032.713863 564.957812)scale(0.1 -0.1)\">\r\n       <use xlink:href=\"#ArialMT-50\"/>\r\n       <use x=\"55.615234\" xlink:href=\"#ArialMT-48\"/>\r\n       <use x=\"111.230469\" xlink:href=\"#ArialMT-50\"/>\r\n       <use x=\"166.845703\" xlink:href=\"#ArialMT-48\"/>\r\n      </g>\r\n     </g>\r\n    </g>\r\n    <g id=\"text_10\">\r\n     <!-- Year of Release -->\r\n     <defs>\r\n      <path d=\"M 27.875 0 \r\nL 27.875 30.328125 \r\nL 0.296875 71.578125 \r\nL 11.8125 71.578125 \r\nL 25.921875 50 \r\nQ 29.828125 43.953125 33.203125 37.890625 \r\nQ 36.421875 43.5 41.015625 50.53125 \r\nL 54.890625 71.578125 \r\nL 65.921875 71.578125 \r\nL 37.359375 30.328125 \r\nL 37.359375 0 \r\nz\r\n\" id=\"ArialMT-89\"/>\r\n      <path d=\"M 42.09375 16.703125 \r\nL 51.171875 15.578125 \r\nQ 49.03125 7.625 43.21875 3.21875 \r\nQ 37.40625 -1.171875 28.375 -1.171875 \r\nQ 17 -1.171875 10.328125 5.828125 \r\nQ 3.65625 12.84375 3.65625 25.484375 \r\nQ 3.65625 38.578125 10.390625 45.796875 \r\nQ 17.140625 53.03125 27.875 53.03125 \r\nQ 38.28125 53.03125 44.875 45.953125 \r\nQ 51.46875 38.875 51.46875 26.03125 \r\nQ 51.46875 25.25 51.421875 23.6875 \r\nL 12.75 23.6875 \r\nQ 13.234375 15.140625 17.578125 10.59375 \r\nQ 21.921875 6.0625 28.421875 6.0625 \r\nQ 33.25 6.0625 36.671875 8.59375 \r\nQ 40.09375 11.140625 42.09375 16.703125 \r\nz\r\nM 13.234375 30.90625 \r\nL 42.1875 30.90625 \r\nQ 41.609375 37.453125 38.875 40.71875 \r\nQ 34.671875 45.796875 27.984375 45.796875 \r\nQ 21.921875 45.796875 17.796875 41.75 \r\nQ 13.671875 37.703125 13.234375 30.90625 \r\nz\r\n\" id=\"ArialMT-101\"/>\r\n      <path d=\"M 40.4375 6.390625 \r\nQ 35.546875 2.25 31.03125 0.53125 \r\nQ 26.515625 -1.171875 21.34375 -1.171875 \r\nQ 12.796875 -1.171875 8.203125 3 \r\nQ 3.609375 7.171875 3.609375 13.671875 \r\nQ 3.609375 17.484375 5.34375 20.625 \r\nQ 7.078125 23.78125 9.890625 25.6875 \r\nQ 12.703125 27.59375 16.21875 28.5625 \r\nQ 18.796875 29.25 24.03125 29.890625 \r\nQ 34.671875 31.15625 39.703125 32.90625 \r\nQ 39.75 34.71875 39.75 35.203125 \r\nQ 39.75 40.578125 37.25 42.78125 \r\nQ 33.890625 45.75 27.25 45.75 \r\nQ 21.046875 45.75 18.09375 43.578125 \r\nQ 15.140625 41.40625 13.71875 35.890625 \r\nL 5.125 37.0625 \r\nQ 6.296875 42.578125 8.984375 45.96875 \r\nQ 11.671875 49.359375 16.75 51.1875 \r\nQ 21.828125 53.03125 28.515625 53.03125 \r\nQ 35.15625 53.03125 39.296875 51.46875 \r\nQ 43.453125 49.90625 45.40625 47.53125 \r\nQ 47.359375 45.171875 48.140625 41.546875 \r\nQ 48.578125 39.3125 48.578125 33.453125 \r\nL 48.578125 21.734375 \r\nQ 48.578125 9.46875 49.140625 6.21875 \r\nQ 49.703125 2.984375 51.375 0 \r\nL 42.1875 0 \r\nQ 40.828125 2.734375 40.4375 6.390625 \r\nz\r\nM 39.703125 26.03125 \r\nQ 34.90625 24.078125 25.34375 22.703125 \r\nQ 19.921875 21.921875 17.671875 20.9375 \r\nQ 15.4375 19.96875 14.203125 18.09375 \r\nQ 12.984375 16.21875 12.984375 13.921875 \r\nQ 12.984375 10.40625 15.640625 8.0625 \r\nQ 18.3125 5.71875 23.4375 5.71875 \r\nQ 28.515625 5.71875 32.46875 7.9375 \r\nQ 36.421875 10.15625 38.28125 14.015625 \r\nQ 39.703125 17 39.703125 22.796875 \r\nz\r\n\" id=\"ArialMT-97\"/>\r\n      <path d=\"M 6.5 0 \r\nL 6.5 51.859375 \r\nL 14.40625 51.859375 \r\nL 14.40625 44 \r\nQ 17.4375 49.515625 20 51.265625 \r\nQ 22.5625 53.03125 25.640625 53.03125 \r\nQ 30.078125 53.03125 34.671875 50.203125 \r\nL 31.640625 42.046875 \r\nQ 28.421875 43.953125 25.203125 43.953125 \r\nQ 22.3125 43.953125 20.015625 42.21875 \r\nQ 17.71875 40.484375 16.75 37.40625 \r\nQ 15.28125 32.71875 15.28125 27.15625 \r\nL 15.28125 0 \r\nz\r\n\" id=\"ArialMT-114\"/>\r\n      <path id=\"ArialMT-32\"/>\r\n      <path d=\"M 3.328125 25.921875 \r\nQ 3.328125 40.328125 11.328125 47.265625 \r\nQ 18.015625 53.03125 27.640625 53.03125 \r\nQ 38.328125 53.03125 45.109375 46.015625 \r\nQ 51.90625 39.015625 51.90625 26.65625 \r\nQ 51.90625 16.65625 48.90625 10.90625 \r\nQ 45.90625 5.171875 40.15625 2 \r\nQ 34.421875 -1.171875 27.640625 -1.171875 \r\nQ 16.75 -1.171875 10.03125 5.8125 \r\nQ 3.328125 12.796875 3.328125 25.921875 \r\nz\r\nM 12.359375 25.921875 \r\nQ 12.359375 15.96875 16.703125 11.015625 \r\nQ 21.046875 6.0625 27.640625 6.0625 \r\nQ 34.1875 6.0625 38.53125 11.03125 \r\nQ 42.875 16.015625 42.875 26.21875 \r\nQ 42.875 35.84375 38.5 40.796875 \r\nQ 34.125 45.75 27.640625 45.75 \r\nQ 21.046875 45.75 16.703125 40.8125 \r\nQ 12.359375 35.890625 12.359375 25.921875 \r\nz\r\n\" id=\"ArialMT-111\"/>\r\n      <path d=\"M 8.6875 0 \r\nL 8.6875 45.015625 \r\nL 0.921875 45.015625 \r\nL 0.921875 51.859375 \r\nL 8.6875 51.859375 \r\nL 8.6875 57.375 \r\nQ 8.6875 62.59375 9.625 65.140625 \r\nQ 10.890625 68.5625 14.078125 70.671875 \r\nQ 17.28125 72.796875 23.046875 72.796875 \r\nQ 26.765625 72.796875 31.25 71.921875 \r\nL 29.9375 64.265625 \r\nQ 27.203125 64.75 24.75 64.75 \r\nQ 20.75 64.75 19.09375 63.03125 \r\nQ 17.4375 61.328125 17.4375 56.640625 \r\nL 17.4375 51.859375 \r\nL 27.546875 51.859375 \r\nL 27.546875 45.015625 \r\nL 17.4375 45.015625 \r\nL 17.4375 0 \r\nz\r\n\" id=\"ArialMT-102\"/>\r\n      <path d=\"M 7.859375 0 \r\nL 7.859375 71.578125 \r\nL 39.59375 71.578125 \r\nQ 49.171875 71.578125 54.140625 69.640625 \r\nQ 59.125 67.71875 62.109375 62.828125 \r\nQ 65.09375 57.953125 65.09375 52.046875 \r\nQ 65.09375 44.4375 60.15625 39.203125 \r\nQ 55.21875 33.984375 44.921875 32.5625 \r\nQ 48.6875 30.765625 50.640625 29 \r\nQ 54.78125 25.203125 58.5 19.484375 \r\nL 70.953125 0 \r\nL 59.03125 0 \r\nL 49.5625 14.890625 \r\nQ 45.40625 21.34375 42.71875 24.75 \r\nQ 40.046875 28.171875 37.921875 29.53125 \r\nQ 35.796875 30.90625 33.59375 31.453125 \r\nQ 31.984375 31.78125 28.328125 31.78125 \r\nL 17.328125 31.78125 \r\nL 17.328125 0 \r\nz\r\nM 17.328125 39.984375 \r\nL 37.703125 39.984375 \r\nQ 44.1875 39.984375 47.84375 41.328125 \r\nQ 51.515625 42.671875 53.421875 45.625 \r\nQ 55.328125 48.578125 55.328125 52.046875 \r\nQ 55.328125 57.125 51.640625 60.390625 \r\nQ 47.953125 63.671875 39.984375 63.671875 \r\nL 17.328125 63.671875 \r\nz\r\n\" id=\"ArialMT-82\"/>\r\n      <path d=\"M 6.390625 0 \r\nL 6.390625 71.578125 \r\nL 15.1875 71.578125 \r\nL 15.1875 0 \r\nz\r\n\" id=\"ArialMT-108\"/>\r\n      <path d=\"M 3.078125 15.484375 \r\nL 11.765625 16.84375 \r\nQ 12.5 11.625 15.84375 8.84375 \r\nQ 19.1875 6.0625 25.203125 6.0625 \r\nQ 31.25 6.0625 34.171875 8.515625 \r\nQ 37.109375 10.984375 37.109375 14.3125 \r\nQ 37.109375 17.28125 34.515625 19 \r\nQ 32.71875 20.171875 25.53125 21.96875 \r\nQ 15.875 24.421875 12.140625 26.203125 \r\nQ 8.40625 27.984375 6.46875 31.125 \r\nQ 4.546875 34.28125 4.546875 38.09375 \r\nQ 4.546875 41.546875 6.125 44.5 \r\nQ 7.71875 47.46875 10.453125 49.421875 \r\nQ 12.5 50.921875 16.03125 51.96875 \r\nQ 19.578125 53.03125 23.640625 53.03125 \r\nQ 29.734375 53.03125 34.34375 51.265625 \r\nQ 38.96875 49.515625 41.15625 46.5 \r\nQ 43.359375 43.5 44.1875 38.484375 \r\nL 35.59375 37.3125 \r\nQ 35.015625 41.3125 32.203125 43.546875 \r\nQ 29.390625 45.796875 24.265625 45.796875 \r\nQ 18.21875 45.796875 15.625 43.796875 \r\nQ 13.03125 41.796875 13.03125 39.109375 \r\nQ 13.03125 37.40625 14.109375 36.03125 \r\nQ 15.1875 34.625 17.484375 33.6875 \r\nQ 18.796875 33.203125 25.25 31.453125 \r\nQ 34.578125 28.953125 38.25 27.359375 \r\nQ 41.9375 25.78125 44.03125 22.75 \r\nQ 46.140625 19.734375 46.140625 15.234375 \r\nQ 46.140625 10.84375 43.578125 6.953125 \r\nQ 41.015625 3.078125 36.171875 0.953125 \r\nQ 31.34375 -1.171875 25.25 -1.171875 \r\nQ 15.140625 -1.171875 9.84375 3.03125 \r\nQ 4.546875 7.234375 3.078125 15.484375 \r\nz\r\n\" id=\"ArialMT-115\"/>\r\n     </defs>\r\n     <g style=\"fill:#262626;\" transform=\"translate(495.081562 582.397812)scale(0.16 -0.16)\">\r\n      <use xlink:href=\"#ArialMT-89\"/>\r\n      <use x=\"57.574219\" xlink:href=\"#ArialMT-101\"/>\r\n      <use x=\"113.189453\" xlink:href=\"#ArialMT-97\"/>\r\n      <use x=\"168.804688\" xlink:href=\"#ArialMT-114\"/>\r\n      <use x=\"202.105469\" xlink:href=\"#ArialMT-32\"/>\r\n      <use x=\"229.888672\" xlink:href=\"#ArialMT-111\"/>\r\n      <use x=\"285.503906\" xlink:href=\"#ArialMT-102\"/>\r\n      <use x=\"313.287109\" xlink:href=\"#ArialMT-32\"/>\r\n      <use x=\"341.070312\" xlink:href=\"#ArialMT-82\"/>\r\n      <use x=\"413.287109\" xlink:href=\"#ArialMT-101\"/>\r\n      <use x=\"468.902344\" xlink:href=\"#ArialMT-108\"/>\r\n      <use x=\"491.119141\" xlink:href=\"#ArialMT-101\"/>\r\n      <use x=\"546.734375\" xlink:href=\"#ArialMT-97\"/>\r\n      <use x=\"602.349609\" xlink:href=\"#ArialMT-115\"/>\r\n      <use x=\"652.349609\" xlink:href=\"#ArialMT-101\"/>\r\n     </g>\r\n    </g>\r\n   </g>\r\n   <g id=\"matplotlib.axis_2\">\r\n    <g id=\"ytick_1\">\r\n     <g id=\"line2d_10\">\r\n      <path clip-path=\"url(#p3e4ecc81a7)\" d=\"M 49.515313 550.8 \r\nL 1053.915313 550.8 \r\n\" style=\"fill:none;stroke:#ffffff;stroke-linecap:round;stroke-width:0.8;\"/>\r\n     </g>\r\n     <g id=\"text_11\">\r\n      <!-- 0 -->\r\n      <g style=\"fill:#262626;\" transform=\"translate(36.954375 554.378906)scale(0.1 -0.1)\">\r\n       <use xlink:href=\"#ArialMT-48\"/>\r\n      </g>\r\n     </g>\r\n    </g>\r\n    <g id=\"ytick_2\">\r\n     <g id=\"line2d_11\">\r\n      <path clip-path=\"url(#p3e4ecc81a7)\" d=\"M 49.515313 480.074005 \r\nL 1053.915313 480.074005 \r\n\" style=\"fill:none;stroke:#ffffff;stroke-linecap:round;stroke-width:0.8;\"/>\r\n     </g>\r\n     <g id=\"text_12\">\r\n      <!-- 25 -->\r\n      <g style=\"fill:#262626;\" transform=\"translate(31.393438 483.652911)scale(0.1 -0.1)\">\r\n       <use xlink:href=\"#ArialMT-50\"/>\r\n       <use x=\"55.615234\" xlink:href=\"#ArialMT-53\"/>\r\n      </g>\r\n     </g>\r\n    </g>\r\n    <g id=\"ytick_3\">\r\n     <g id=\"line2d_12\">\r\n      <path clip-path=\"url(#p3e4ecc81a7)\" d=\"M 49.515313 409.348009 \r\nL 1053.915313 409.348009 \r\n\" style=\"fill:none;stroke:#ffffff;stroke-linecap:round;stroke-width:0.8;\"/>\r\n     </g>\r\n     <g id=\"text_13\">\r\n      <!-- 50 -->\r\n      <g style=\"fill:#262626;\" transform=\"translate(31.393438 412.926916)scale(0.1 -0.1)\">\r\n       <use xlink:href=\"#ArialMT-53\"/>\r\n       <use x=\"55.615234\" xlink:href=\"#ArialMT-48\"/>\r\n      </g>\r\n     </g>\r\n    </g>\r\n    <g id=\"ytick_4\">\r\n     <g id=\"line2d_13\">\r\n      <path clip-path=\"url(#p3e4ecc81a7)\" d=\"M 49.515313 338.622014 \r\nL 1053.915313 338.622014 \r\n\" style=\"fill:none;stroke:#ffffff;stroke-linecap:round;stroke-width:0.8;\"/>\r\n     </g>\r\n     <g id=\"text_14\">\r\n      <!-- 75 -->\r\n      <g style=\"fill:#262626;\" transform=\"translate(31.393438 342.20092)scale(0.1 -0.1)\">\r\n       <use xlink:href=\"#ArialMT-55\"/>\r\n       <use x=\"55.615234\" xlink:href=\"#ArialMT-53\"/>\r\n      </g>\r\n     </g>\r\n    </g>\r\n    <g id=\"ytick_5\">\r\n     <g id=\"line2d_14\">\r\n      <path clip-path=\"url(#p3e4ecc81a7)\" d=\"M 49.515313 267.896019 \r\nL 1053.915313 267.896019 \r\n\" style=\"fill:none;stroke:#ffffff;stroke-linecap:round;stroke-width:0.8;\"/>\r\n     </g>\r\n     <g id=\"text_15\">\r\n      <!-- 100 -->\r\n      <g style=\"fill:#262626;\" transform=\"translate(25.8325 271.474925)scale(0.1 -0.1)\">\r\n       <use xlink:href=\"#ArialMT-49\"/>\r\n       <use x=\"55.615234\" xlink:href=\"#ArialMT-48\"/>\r\n       <use x=\"111.230469\" xlink:href=\"#ArialMT-48\"/>\r\n      </g>\r\n     </g>\r\n    </g>\r\n    <g id=\"ytick_6\">\r\n     <g id=\"line2d_15\">\r\n      <path clip-path=\"url(#p3e4ecc81a7)\" d=\"M 49.515313 197.170023 \r\nL 1053.915313 197.170023 \r\n\" style=\"fill:none;stroke:#ffffff;stroke-linecap:round;stroke-width:0.8;\"/>\r\n     </g>\r\n     <g id=\"text_16\">\r\n      <!-- 125 -->\r\n      <g style=\"fill:#262626;\" transform=\"translate(25.8325 200.74893)scale(0.1 -0.1)\">\r\n       <use xlink:href=\"#ArialMT-49\"/>\r\n       <use x=\"55.615234\" xlink:href=\"#ArialMT-50\"/>\r\n       <use x=\"111.230469\" xlink:href=\"#ArialMT-53\"/>\r\n      </g>\r\n     </g>\r\n    </g>\r\n    <g id=\"ytick_7\">\r\n     <g id=\"line2d_16\">\r\n      <path clip-path=\"url(#p3e4ecc81a7)\" d=\"M 49.515313 126.444028 \r\nL 1053.915313 126.444028 \r\n\" style=\"fill:none;stroke:#ffffff;stroke-linecap:round;stroke-width:0.8;\"/>\r\n     </g>\r\n     <g id=\"text_17\">\r\n      <!-- 150 -->\r\n      <g style=\"fill:#262626;\" transform=\"translate(25.8325 130.022934)scale(0.1 -0.1)\">\r\n       <use xlink:href=\"#ArialMT-49\"/>\r\n       <use x=\"55.615234\" xlink:href=\"#ArialMT-53\"/>\r\n       <use x=\"111.230469\" xlink:href=\"#ArialMT-48\"/>\r\n      </g>\r\n     </g>\r\n    </g>\r\n    <g id=\"ytick_8\">\r\n     <g id=\"line2d_17\">\r\n      <path clip-path=\"url(#p3e4ecc81a7)\" d=\"M 49.515313 55.718033 \r\nL 1053.915313 55.718033 \r\n\" style=\"fill:none;stroke:#ffffff;stroke-linecap:round;stroke-width:0.8;\"/>\r\n     </g>\r\n     <g id=\"text_18\">\r\n      <!-- 175 -->\r\n      <g style=\"fill:#262626;\" transform=\"translate(25.8325 59.296939)scale(0.1 -0.1)\">\r\n       <use xlink:href=\"#ArialMT-49\"/>\r\n       <use x=\"55.615234\" xlink:href=\"#ArialMT-55\"/>\r\n       <use x=\"111.230469\" xlink:href=\"#ArialMT-53\"/>\r\n      </g>\r\n     </g>\r\n    </g>\r\n    <g id=\"text_19\">\r\n     <!-- No. of shows released -->\r\n     <defs>\r\n      <path d=\"M 7.625 0 \r\nL 7.625 71.578125 \r\nL 17.328125 71.578125 \r\nL 54.9375 15.375 \r\nL 54.9375 71.578125 \r\nL 64.015625 71.578125 \r\nL 64.015625 0 \r\nL 54.296875 0 \r\nL 16.703125 56.25 \r\nL 16.703125 0 \r\nz\r\n\" id=\"ArialMT-78\"/>\r\n      <path d=\"M 9.078125 0 \r\nL 9.078125 10.015625 \r\nL 19.09375 10.015625 \r\nL 19.09375 0 \r\nz\r\n\" id=\"ArialMT-46\"/>\r\n      <path d=\"M 6.59375 0 \r\nL 6.59375 71.578125 \r\nL 15.375 71.578125 \r\nL 15.375 45.90625 \r\nQ 21.53125 53.03125 30.90625 53.03125 \r\nQ 36.671875 53.03125 40.921875 50.75 \r\nQ 45.171875 48.484375 47 44.484375 \r\nQ 48.828125 40.484375 48.828125 32.859375 \r\nL 48.828125 0 \r\nL 40.046875 0 \r\nL 40.046875 32.859375 \r\nQ 40.046875 39.453125 37.1875 42.453125 \r\nQ 34.328125 45.453125 29.109375 45.453125 \r\nQ 25.203125 45.453125 21.75 43.421875 \r\nQ 18.3125 41.40625 16.84375 37.9375 \r\nQ 15.375 34.46875 15.375 28.375 \r\nL 15.375 0 \r\nz\r\n\" id=\"ArialMT-104\"/>\r\n      <path d=\"M 16.15625 0 \r\nL 0.296875 51.859375 \r\nL 9.375 51.859375 \r\nL 17.625 21.921875 \r\nL 20.703125 10.796875 \r\nQ 20.90625 11.625 23.390625 21.484375 \r\nL 31.640625 51.859375 \r\nL 40.671875 51.859375 \r\nL 48.4375 21.78125 \r\nL 51.03125 11.859375 \r\nL 54 21.875 \r\nL 62.890625 51.859375 \r\nL 71.4375 51.859375 \r\nL 55.21875 0 \r\nL 46.09375 0 \r\nL 37.84375 31.0625 \r\nL 35.84375 39.890625 \r\nL 25.34375 0 \r\nz\r\n\" id=\"ArialMT-119\"/>\r\n      <path d=\"M 40.234375 0 \r\nL 40.234375 6.546875 \r\nQ 35.296875 -1.171875 25.734375 -1.171875 \r\nQ 19.53125 -1.171875 14.328125 2.25 \r\nQ 9.125 5.671875 6.265625 11.796875 \r\nQ 3.421875 17.921875 3.421875 25.875 \r\nQ 3.421875 33.640625 6 39.96875 \r\nQ 8.59375 46.296875 13.765625 49.65625 \r\nQ 18.953125 53.03125 25.34375 53.03125 \r\nQ 30.03125 53.03125 33.6875 51.046875 \r\nQ 37.359375 49.078125 39.65625 45.90625 \r\nL 39.65625 71.578125 \r\nL 48.390625 71.578125 \r\nL 48.390625 0 \r\nz\r\nM 12.453125 25.875 \r\nQ 12.453125 15.921875 16.640625 10.984375 \r\nQ 20.84375 6.0625 26.5625 6.0625 \r\nQ 32.328125 6.0625 36.34375 10.765625 \r\nQ 40.375 15.484375 40.375 25.140625 \r\nQ 40.375 35.796875 36.265625 40.765625 \r\nQ 32.171875 45.75 26.171875 45.75 \r\nQ 20.3125 45.75 16.375 40.96875 \r\nQ 12.453125 36.1875 12.453125 25.875 \r\nz\r\n\" id=\"ArialMT-100\"/>\r\n     </defs>\r\n     <g style=\"fill:#262626;\" transform=\"translate(18.6525 358.1475)rotate(-90)scale(0.16 -0.16)\">\r\n      <use xlink:href=\"#ArialMT-78\"/>\r\n      <use x=\"72.216797\" xlink:href=\"#ArialMT-111\"/>\r\n      <use x=\"127.832031\" xlink:href=\"#ArialMT-46\"/>\r\n      <use x=\"155.615234\" xlink:href=\"#ArialMT-32\"/>\r\n      <use x=\"183.398438\" xlink:href=\"#ArialMT-111\"/>\r\n      <use x=\"239.013672\" xlink:href=\"#ArialMT-102\"/>\r\n      <use x=\"266.796875\" xlink:href=\"#ArialMT-32\"/>\r\n      <use x=\"294.580078\" xlink:href=\"#ArialMT-115\"/>\r\n      <use x=\"344.580078\" xlink:href=\"#ArialMT-104\"/>\r\n      <use x=\"400.195312\" xlink:href=\"#ArialMT-111\"/>\r\n      <use x=\"455.810547\" xlink:href=\"#ArialMT-119\"/>\r\n      <use x=\"528.027344\" xlink:href=\"#ArialMT-115\"/>\r\n      <use x=\"578.027344\" xlink:href=\"#ArialMT-32\"/>\r\n      <use x=\"605.810547\" xlink:href=\"#ArialMT-114\"/>\r\n      <use x=\"639.111328\" xlink:href=\"#ArialMT-101\"/>\r\n      <use x=\"694.726562\" xlink:href=\"#ArialMT-108\"/>\r\n      <use x=\"716.943359\" xlink:href=\"#ArialMT-101\"/>\r\n      <use x=\"772.558594\" xlink:href=\"#ArialMT-97\"/>\r\n      <use x=\"828.173828\" xlink:href=\"#ArialMT-115\"/>\r\n      <use x=\"878.173828\" xlink:href=\"#ArialMT-101\"/>\r\n      <use x=\"933.789062\" xlink:href=\"#ArialMT-100\"/>\r\n     </g>\r\n    </g>\r\n   </g>\r\n   <g id=\"patch_3\">\r\n    <path clip-path=\"url(#p3e4ecc81a7)\" d=\"M 95.169858 550.8 \r\nL 117.997131 550.8 \r\nL 117.997131 547.97096 \r\nL 95.169858 547.97096 \r\nz\r\n\" style=\"fill:#f05454;stroke:#21209c;stroke-linejoin:miter;\"/>\r\n   </g>\r\n   <g id=\"patch_4\">\r\n    <path clip-path=\"url(#p3e4ecc81a7)\" d=\"M 117.997131 550.8 \r\nL 140.824403 550.8 \r\nL 140.824403 550.8 \r\nL 117.997131 550.8 \r\nz\r\n\" style=\"fill:#f05454;stroke:#21209c;stroke-linejoin:miter;\"/>\r\n   </g>\r\n   <g id=\"patch_5\">\r\n    <path clip-path=\"url(#p3e4ecc81a7)\" d=\"M 140.824403 550.8 \r\nL 163.651676 550.8 \r\nL 163.651676 550.8 \r\nL 140.824403 550.8 \r\nz\r\n\" style=\"fill:#f05454;stroke:#21209c;stroke-linejoin:miter;\"/>\r\n   </g>\r\n   <g id=\"patch_6\">\r\n    <path clip-path=\"url(#p3e4ecc81a7)\" d=\"M 163.651676 550.8 \r\nL 186.478949 550.8 \r\nL 186.478949 550.8 \r\nL 163.651676 550.8 \r\nz\r\n\" style=\"fill:#f05454;stroke:#21209c;stroke-linejoin:miter;\"/>\r\n   </g>\r\n   <g id=\"patch_7\">\r\n    <path clip-path=\"url(#p3e4ecc81a7)\" d=\"M 186.478949 550.8 \r\nL 209.306222 550.8 \r\nL 209.306222 550.8 \r\nL 186.478949 550.8 \r\nz\r\n\" style=\"fill:#f05454;stroke:#21209c;stroke-linejoin:miter;\"/>\r\n   </g>\r\n   <g id=\"patch_8\">\r\n    <path clip-path=\"url(#p3e4ecc81a7)\" d=\"M 209.306222 550.8 \r\nL 232.133494 550.8 \r\nL 232.133494 550.8 \r\nL 209.306222 550.8 \r\nz\r\n\" style=\"fill:#f05454;stroke:#21209c;stroke-linejoin:miter;\"/>\r\n   </g>\r\n   <g id=\"patch_9\">\r\n    <path clip-path=\"url(#p3e4ecc81a7)\" d=\"M 232.133494 550.8 \r\nL 254.960767 550.8 \r\nL 254.960767 550.8 \r\nL 232.133494 550.8 \r\nz\r\n\" style=\"fill:#f05454;stroke:#21209c;stroke-linejoin:miter;\"/>\r\n   </g>\r\n   <g id=\"patch_10\">\r\n    <path clip-path=\"url(#p3e4ecc81a7)\" d=\"M 254.960767 550.8 \r\nL 277.78804 550.8 \r\nL 277.78804 550.8 \r\nL 254.960767 550.8 \r\nz\r\n\" style=\"fill:#f05454;stroke:#21209c;stroke-linejoin:miter;\"/>\r\n   </g>\r\n   <g id=\"patch_11\">\r\n    <path clip-path=\"url(#p3e4ecc81a7)\" d=\"M 277.78804 550.8 \r\nL 300.615312 550.8 \r\nL 300.615312 550.8 \r\nL 277.78804 550.8 \r\nz\r\n\" style=\"fill:#f05454;stroke:#21209c;stroke-linejoin:miter;\"/>\r\n   </g>\r\n   <g id=\"patch_12\">\r\n    <path clip-path=\"url(#p3e4ecc81a7)\" d=\"M 300.615312 550.8 \r\nL 323.442585 550.8 \r\nL 323.442585 550.8 \r\nL 300.615312 550.8 \r\nz\r\n\" style=\"fill:#f05454;stroke:#21209c;stroke-linejoin:miter;\"/>\r\n   </g>\r\n   <g id=\"patch_13\">\r\n    <path clip-path=\"url(#p3e4ecc81a7)\" d=\"M 323.442585 550.8 \r\nL 346.269858 550.8 \r\nL 346.269858 550.8 \r\nL 323.442585 550.8 \r\nz\r\n\" style=\"fill:#f05454;stroke:#21209c;stroke-linejoin:miter;\"/>\r\n   </g>\r\n   <g id=\"patch_14\">\r\n    <path clip-path=\"url(#p3e4ecc81a7)\" d=\"M 346.269858 550.8 \r\nL 369.097131 550.8 \r\nL 369.097131 550.8 \r\nL 346.269858 550.8 \r\nz\r\n\" style=\"fill:#f05454;stroke:#21209c;stroke-linejoin:miter;\"/>\r\n   </g>\r\n   <g id=\"patch_15\">\r\n    <path clip-path=\"url(#p3e4ecc81a7)\" d=\"M 369.097131 550.8 \r\nL 391.924403 550.8 \r\nL 391.924403 550.8 \r\nL 369.097131 550.8 \r\nz\r\n\" style=\"fill:#f05454;stroke:#21209c;stroke-linejoin:miter;\"/>\r\n   </g>\r\n   <g id=\"patch_16\">\r\n    <path clip-path=\"url(#p3e4ecc81a7)\" d=\"M 391.924403 550.8 \r\nL 414.751676 550.8 \r\nL 414.751676 550.8 \r\nL 391.924403 550.8 \r\nz\r\n\" style=\"fill:#f05454;stroke:#21209c;stroke-linejoin:miter;\"/>\r\n   </g>\r\n   <g id=\"patch_17\">\r\n    <path clip-path=\"url(#p3e4ecc81a7)\" d=\"M 414.751676 550.8 \r\nL 437.578949 550.8 \r\nL 437.578949 550.8 \r\nL 414.751676 550.8 \r\nz\r\n\" style=\"fill:#f05454;stroke:#21209c;stroke-linejoin:miter;\"/>\r\n   </g>\r\n   <g id=\"patch_18\">\r\n    <path clip-path=\"url(#p3e4ecc81a7)\" d=\"M 437.578949 550.8 \r\nL 460.406222 550.8 \r\nL 460.406222 550.8 \r\nL 437.578949 550.8 \r\nz\r\n\" style=\"fill:#f05454;stroke:#21209c;stroke-linejoin:miter;\"/>\r\n   </g>\r\n   <g id=\"patch_19\">\r\n    <path clip-path=\"url(#p3e4ecc81a7)\" d=\"M 460.406222 550.8 \r\nL 483.233494 550.8 \r\nL 483.233494 550.8 \r\nL 460.406222 550.8 \r\nz\r\n\" style=\"fill:#f05454;stroke:#21209c;stroke-linejoin:miter;\"/>\r\n   </g>\r\n   <g id=\"patch_20\">\r\n    <path clip-path=\"url(#p3e4ecc81a7)\" d=\"M 483.233494 550.8 \r\nL 506.060767 550.8 \r\nL 506.060767 550.8 \r\nL 483.233494 550.8 \r\nz\r\n\" style=\"fill:#f05454;stroke:#21209c;stroke-linejoin:miter;\"/>\r\n   </g>\r\n   <g id=\"patch_21\">\r\n    <path clip-path=\"url(#p3e4ecc81a7)\" d=\"M 506.060767 550.8 \r\nL 528.88804 550.8 \r\nL 528.88804 547.97096 \r\nL 506.060767 547.97096 \r\nz\r\n\" style=\"fill:#f05454;stroke:#21209c;stroke-linejoin:miter;\"/>\r\n   </g>\r\n   <g id=\"patch_22\">\r\n    <path clip-path=\"url(#p3e4ecc81a7)\" d=\"M 528.88804 550.8 \r\nL 551.715312 550.8 \r\nL 551.715312 547.97096 \r\nL 528.88804 547.97096 \r\nz\r\n\" style=\"fill:#f05454;stroke:#21209c;stroke-linejoin:miter;\"/>\r\n   </g>\r\n   <g id=\"patch_23\">\r\n    <path clip-path=\"url(#p3e4ecc81a7)\" d=\"M 551.715312 550.8 \r\nL 574.542585 550.8 \r\nL 574.542585 550.8 \r\nL 551.715312 550.8 \r\nz\r\n\" style=\"fill:#f05454;stroke:#21209c;stroke-linejoin:miter;\"/>\r\n   </g>\r\n   <g id=\"patch_24\">\r\n    <path clip-path=\"url(#p3e4ecc81a7)\" d=\"M 574.542585 550.8 \r\nL 597.369858 550.8 \r\nL 597.369858 545.14192 \r\nL 574.542585 545.14192 \r\nz\r\n\" style=\"fill:#f05454;stroke:#21209c;stroke-linejoin:miter;\"/>\r\n   </g>\r\n   <g id=\"patch_25\">\r\n    <path clip-path=\"url(#p3e4ecc81a7)\" d=\"M 597.369858 550.8 \r\nL 620.197131 550.8 \r\nL 620.197131 550.8 \r\nL 597.369858 550.8 \r\nz\r\n\" style=\"fill:#f05454;stroke:#21209c;stroke-linejoin:miter;\"/>\r\n   </g>\r\n   <g id=\"patch_26\">\r\n    <path clip-path=\"url(#p3e4ecc81a7)\" d=\"M 620.197131 550.8 \r\nL 643.024403 550.8 \r\nL 643.024403 547.97096 \r\nL 620.197131 547.97096 \r\nz\r\n\" style=\"fill:#f05454;stroke:#21209c;stroke-linejoin:miter;\"/>\r\n   </g>\r\n   <g id=\"patch_27\">\r\n    <path clip-path=\"url(#p3e4ecc81a7)\" d=\"M 643.024403 550.8 \r\nL 665.851676 550.8 \r\nL 665.851676 547.97096 \r\nL 643.024403 547.97096 \r\nz\r\n\" style=\"fill:#f05454;stroke:#21209c;stroke-linejoin:miter;\"/>\r\n   </g>\r\n   <g id=\"patch_28\">\r\n    <path clip-path=\"url(#p3e4ecc81a7)\" d=\"M 665.851676 550.8 \r\nL 688.678949 550.8 \r\nL 688.678949 539.483841 \r\nL 665.851676 539.483841 \r\nz\r\n\" style=\"fill:#f05454;stroke:#21209c;stroke-linejoin:miter;\"/>\r\n   </g>\r\n   <g id=\"patch_29\">\r\n    <path clip-path=\"url(#p3e4ecc81a7)\" d=\"M 688.678949 550.8 \r\nL 711.506222 550.8 \r\nL 711.506222 547.97096 \r\nL 688.678949 547.97096 \r\nz\r\n\" style=\"fill:#f05454;stroke:#21209c;stroke-linejoin:miter;\"/>\r\n   </g>\r\n   <g id=\"patch_30\">\r\n    <path clip-path=\"url(#p3e4ecc81a7)\" d=\"M 711.506222 550.8 \r\nL 734.333494 550.8 \r\nL 734.333494 533.825761 \r\nL 711.506222 533.825761 \r\nz\r\n\" style=\"fill:#f05454;stroke:#21209c;stroke-linejoin:miter;\"/>\r\n   </g>\r\n   <g id=\"patch_31\">\r\n    <path clip-path=\"url(#p3e4ecc81a7)\" d=\"M 734.333494 550.8 \r\nL 757.160767 550.8 \r\nL 757.160767 533.825761 \r\nL 734.333494 533.825761 \r\nz\r\n\" style=\"fill:#f05454;stroke:#21209c;stroke-linejoin:miter;\"/>\r\n   </g>\r\n   <g id=\"patch_32\">\r\n    <path clip-path=\"url(#p3e4ecc81a7)\" d=\"M 757.160767 550.8 \r\nL 779.98804 550.8 \r\nL 779.98804 522.509602 \r\nL 757.160767 522.509602 \r\nz\r\n\" style=\"fill:#f05454;stroke:#21209c;stroke-linejoin:miter;\"/>\r\n   </g>\r\n   <g id=\"patch_33\">\r\n    <path clip-path=\"url(#p3e4ecc81a7)\" d=\"M 779.98804 550.8 \r\nL 802.815312 550.8 \r\nL 802.815312 511.193443 \r\nL 779.98804 511.193443 \r\nz\r\n\" style=\"fill:#f05454;stroke:#21209c;stroke-linejoin:miter;\"/>\r\n   </g>\r\n   <g id=\"patch_34\">\r\n    <path clip-path=\"url(#p3e4ecc81a7)\" d=\"M 802.815312 550.8 \r\nL 825.642585 550.8 \r\nL 825.642585 514.022482 \r\nL 802.815312 514.022482 \r\nz\r\n\" style=\"fill:#f05454;stroke:#21209c;stroke-linejoin:miter;\"/>\r\n   </g>\r\n   <g id=\"patch_35\">\r\n    <path clip-path=\"url(#p3e4ecc81a7)\" d=\"M 825.642585 550.8 \r\nL 848.469858 550.8 \r\nL 848.469858 505.535363 \r\nL 825.642585 505.535363 \r\nz\r\n\" style=\"fill:#f05454;stroke:#21209c;stroke-linejoin:miter;\"/>\r\n   </g>\r\n   <g id=\"patch_36\">\r\n    <path clip-path=\"url(#p3e4ecc81a7)\" d=\"M 848.469858 550.8 \r\nL 871.297131 550.8 \r\nL 871.297131 502.706323 \r\nL 848.469858 502.706323 \r\nz\r\n\" style=\"fill:#f05454;stroke:#21209c;stroke-linejoin:miter;\"/>\r\n   </g>\r\n   <g id=\"patch_37\">\r\n    <path clip-path=\"url(#p3e4ecc81a7)\" d=\"M 871.297131 550.8 \r\nL 894.124403 550.8 \r\nL 894.124403 499.877283 \r\nL 871.297131 499.877283 \r\nz\r\n\" style=\"fill:#f05454;stroke:#21209c;stroke-linejoin:miter;\"/>\r\n   </g>\r\n   <g id=\"patch_38\">\r\n    <path clip-path=\"url(#p3e4ecc81a7)\" d=\"M 894.124403 550.8 \r\nL 916.951676 550.8 \r\nL 916.951676 491.390164 \r\nL 894.124403 491.390164 \r\nz\r\n\" style=\"fill:#f05454;stroke:#21209c;stroke-linejoin:miter;\"/>\r\n   </g>\r\n   <g id=\"patch_39\">\r\n    <path clip-path=\"url(#p3e4ecc81a7)\" d=\"M 916.951676 550.8 \r\nL 939.778949 550.8 \r\nL 939.778949 471.586885 \r\nL 916.951676 471.586885 \r\nz\r\n\" style=\"fill:#f05454;stroke:#21209c;stroke-linejoin:miter;\"/>\r\n   </g>\r\n   <g id=\"patch_40\">\r\n    <path clip-path=\"url(#p3e4ecc81a7)\" d=\"M 939.778949 550.8 \r\nL 962.606222 550.8 \r\nL 962.606222 381.057611 \r\nL 939.778949 381.057611 \r\nz\r\n\" style=\"fill:#f05454;stroke:#21209c;stroke-linejoin:miter;\"/>\r\n   </g>\r\n   <g id=\"patch_41\">\r\n    <path clip-path=\"url(#p3e4ecc81a7)\" d=\"M 962.606222 550.8 \r\nL 985.433494 550.8 \r\nL 985.433494 279.212178 \r\nL 962.606222 279.212178 \r\nz\r\n\" style=\"fill:#f05454;stroke:#21209c;stroke-linejoin:miter;\"/>\r\n   </g>\r\n   <g id=\"patch_42\">\r\n    <path clip-path=\"url(#p3e4ecc81a7)\" d=\"M 985.433494 550.8 \r\nL 1008.260767 550.8 \r\nL 1008.260767 33.085714 \r\nL 985.433494 33.085714 \r\nz\r\n\" style=\"fill:#f05454;stroke:#21209c;stroke-linejoin:miter;\"/>\r\n   </g>\r\n   <g id=\"patch_43\">\r\n    <path d=\"M 49.515313 550.8 \r\nL 49.515313 7.2 \r\n\" style=\"fill:none;stroke:#ffffff;stroke-linecap:square;stroke-linejoin:miter;stroke-width:0.8;\"/>\r\n   </g>\r\n   <g id=\"patch_44\">\r\n    <path d=\"M 1053.915313 550.8 \r\nL 1053.915313 7.2 \r\n\" style=\"fill:none;stroke:#ffffff;stroke-linecap:square;stroke-linejoin:miter;stroke-width:0.8;\"/>\r\n   </g>\r\n   <g id=\"patch_45\">\r\n    <path d=\"M 49.515312 550.8 \r\nL 1053.915312 550.8 \r\n\" style=\"fill:none;stroke:#ffffff;stroke-linecap:square;stroke-linejoin:miter;stroke-width:0.8;\"/>\r\n   </g>\r\n   <g id=\"patch_46\">\r\n    <path d=\"M 49.515312 7.2 \r\nL 1053.915312 7.2 \r\n\" style=\"fill:none;stroke:#ffffff;stroke-linecap:square;stroke-linejoin:miter;stroke-width:0.8;\"/>\r\n   </g>\r\n  </g>\r\n </g>\r\n <defs>\r\n  <clipPath id=\"p3e4ecc81a7\">\r\n   <rect height=\"543.6\" width=\"1004.4\" x=\"49.515313\" y=\"7.2\"/>\r\n  </clipPath>\r\n </defs>\r\n</svg>\r\n",
      "image/png": "[encoded data removed]"
     },
     "metadata": {
      "needs_background": "light"
     }
    }
   ],
   "source": [
    "plt.figure(figsize=(18,10))\n",
    "plt.hist(df['release year'], ec='#21209c', bins = 40, color='#f05454')\n",
    "plt.xlabel('Year of Release', fontsize=16)\n",
    "plt.ylabel('No. of shows released', fontsize=16)\n",
    "plt.show()"
   ]
  },
  {
   "cell_type": "code",
   "execution_count": null,
   "metadata": {},
   "outputs": [],
   "source": []
  }
 ]
}