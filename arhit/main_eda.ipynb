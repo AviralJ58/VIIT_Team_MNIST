{
 "metadata": {
  "language_info": {
   "codemirror_mode": {
    "name": "ipython",
    "version": 3
   },
   "file_extension": ".py",
   "mimetype": "text/x-python",
   "name": "python",
   "nbconvert_exporter": "python",
   "pygments_lexer": "ipython3",
   "version": "3.8.3-final"
  },
  "orig_nbformat": 2,
  "kernelspec": {
   "name": "python3",
   "display_name": "Python 3",
   "language": "python"
  }
 },
 "nbformat": 4,
 "nbformat_minor": 2,
 "cells": [
  {
   "cell_type": "code",
   "execution_count": 2,
   "metadata": {},
   "outputs": [],
   "source": [
    "import numpy as np\n",
    "import pandas as pd\n",
    "import matplotlib.pyplot as plt\n",
    "import seaborn as sns\n",
    "sns.set_style('darkgrid')\n",
    "from sklearn.linear_model import LinearRegression\n",
    "%matplotlib inline"
   ]
  },
  {
   "cell_type": "code",
   "execution_count": 4,
   "metadata": {},
   "outputs": [],
   "source": [
    "df = pd.read_csv('netfilx.csv', encoding='latin-1')"
   ]
  },
  {
   "cell_type": "code",
   "execution_count": 5,
   "metadata": {},
   "outputs": [
    {
     "output_type": "execute_result",
     "data": {
      "text/plain": [
       "                       title rating  \\\n",
       "0               White Chicks  PG-13   \n",
       "1        Lucky Number Slevin      R   \n",
       "2             Grey's Anatomy  TV-14   \n",
       "3               Prison Break  TV-14   \n",
       "4      How I Met Your Mother  TV-PG   \n",
       "..                       ...    ...   \n",
       "995                  The BFG     PG   \n",
       "996  The Secret Life of Pets     PG   \n",
       "997         Precious Puppies   TV-G   \n",
       "998              Beary Tales   TV-G   \n",
       "999          Growing Up Wild      G   \n",
       "\n",
       "                                           ratingLevel  ratingDescription  \\\n",
       "0    crude and sexual humor, language and some drug...                 80   \n",
       "1    strong violence, sexual content and adult lang...                100   \n",
       "2    Parents strongly cautioned. May be unsuitable ...                 90   \n",
       "3    Parents strongly cautioned. May be unsuitable ...                 90   \n",
       "4    Parental guidance suggested. May not be suitab...                 70   \n",
       "..                                                 ...                ...   \n",
       "995  for action/peril, some scary moments and brief...                 60   \n",
       "996                     for action and some rude humor                 60   \n",
       "997                             Suitable for all ages.                 35   \n",
       "998                             Suitable for all ages.                 35   \n",
       "999                                                NaN                 35   \n",
       "\n",
       "     release year  user rating score  user rating size  \n",
       "0            2004               82.0                80  \n",
       "1            2006                NaN                82  \n",
       "2            2016               98.0                80  \n",
       "3            2008               98.0                80  \n",
       "4            2014               94.0                80  \n",
       "..            ...                ...               ...  \n",
       "995          2016               97.0                80  \n",
       "996          2016                NaN                81  \n",
       "997          2003                NaN                82  \n",
       "998          2013                NaN                82  \n",
       "999          2016               80.0                80  \n",
       "\n",
       "[1000 rows x 7 columns]"
      ],
      "text/html": "<div>\n<style scoped>\n    .dataframe tbody tr th:only-of-type {\n        vertical-align: middle;\n    }\n\n    .dataframe tbody tr th {\n        vertical-align: top;\n    }\n\n    .dataframe thead th {\n        text-align: right;\n    }\n</style>\n<table border=\"1\" class=\"dataframe\">\n  <thead>\n    <tr style=\"text-align: right;\">\n      <th></th>\n      <th>title</th>\n      <th>rating</th>\n      <th>ratingLevel</th>\n      <th>ratingDescription</th>\n      <th>release year</th>\n      <th>user rating score</th>\n      <th>user rating size</th>\n    </tr>\n  </thead>\n  <tbody>\n    <tr>\n      <th>0</th>\n      <td>White Chicks</td>\n      <td>PG-13</td>\n      <td>crude and sexual humor, language and some drug...</td>\n      <td>80</td>\n      <td>2004</td>\n      <td>82.0</td>\n      <td>80</td>\n    </tr>\n    <tr>\n      <th>1</th>\n      <td>Lucky Number Slevin</td>\n      <td>R</td>\n      <td>strong violence, sexual content and adult lang...</td>\n      <td>100</td>\n      <td>2006</td>\n      <td>NaN</td>\n      <td>82</td>\n    </tr>\n    <tr>\n      <th>2</th>\n      <td>Grey's Anatomy</td>\n      <td>TV-14</td>\n      <td>Parents strongly cautioned. May be unsuitable ...</td>\n      <td>90</td>\n      <td>2016</td>\n      <td>98.0</td>\n      <td>80</td>\n    </tr>\n    <tr>\n      <th>3</th>\n      <td>Prison Break</td>\n      <td>TV-14</td>\n      <td>Parents strongly cautioned. May be unsuitable ...</td>\n      <td>90</td>\n      <td>2008</td>\n      <td>98.0</td>\n      <td>80</td>\n    </tr>\n    <tr>\n      <th>4</th>\n      <td>How I Met Your Mother</td>\n      <td>TV-PG</td>\n      <td>Parental guidance suggested. May not be suitab...</td>\n      <td>70</td>\n      <td>2014</td>\n      <td>94.0</td>\n      <td>80</td>\n    </tr>\n    <tr>\n      <th>...</th>\n      <td>...</td>\n      <td>...</td>\n      <td>...</td>\n      <td>...</td>\n      <td>...</td>\n      <td>...</td>\n      <td>...</td>\n    </tr>\n    <tr>\n      <th>995</th>\n      <td>The BFG</td>\n      <td>PG</td>\n      <td>for action/peril, some scary moments and brief...</td>\n      <td>60</td>\n      <td>2016</td>\n      <td>97.0</td>\n      <td>80</td>\n    </tr>\n    <tr>\n      <th>996</th>\n      <td>The Secret Life of Pets</td>\n      <td>PG</td>\n      <td>for action and some rude humor</td>\n      <td>60</td>\n      <td>2016</td>\n      <td>NaN</td>\n      <td>81</td>\n    </tr>\n    <tr>\n      <th>997</th>\n      <td>Precious Puppies</td>\n      <td>TV-G</td>\n      <td>Suitable for all ages.</td>\n      <td>35</td>\n      <td>2003</td>\n      <td>NaN</td>\n      <td>82</td>\n    </tr>\n    <tr>\n      <th>998</th>\n      <td>Beary Tales</td>\n      <td>TV-G</td>\n      <td>Suitable for all ages.</td>\n      <td>35</td>\n      <td>2013</td>\n      <td>NaN</td>\n      <td>82</td>\n    </tr>\n    <tr>\n      <th>999</th>\n      <td>Growing Up Wild</td>\n      <td>G</td>\n      <td>NaN</td>\n      <td>35</td>\n      <td>2016</td>\n      <td>80.0</td>\n      <td>80</td>\n    </tr>\n  </tbody>\n</table>\n<p>1000 rows × 7 columns</p>\n</div>"
     },
     "metadata": {},
     "execution_count": 5
    }
   ],
   "source": [
    "df"
   ]
  },
  {
   "cell_type": "code",
   "execution_count": 8,
   "metadata": {},
   "outputs": [
    {
     "output_type": "execute_result",
     "data": {
      "text/plain": [
       "                         title rating  \\\n",
       "0                 White Chicks  PG-13   \n",
       "1          Lucky Number Slevin      R   \n",
       "2               Grey's Anatomy  TV-14   \n",
       "3                 Prison Break  TV-14   \n",
       "4        How I Met Your Mother  TV-PG   \n",
       "..                         ...    ...   \n",
       "989            Russell Madness     PG   \n",
       "993  Wiener Dog Internationals      G   \n",
       "994                   Pup Star      G   \n",
       "997           Precious Puppies   TV-G   \n",
       "998                Beary Tales   TV-G   \n",
       "\n",
       "                                           ratingLevel  ratingDescription  \\\n",
       "0    crude and sexual humor, language and some drug...                 80   \n",
       "1    strong violence, sexual content and adult lang...                100   \n",
       "2    Parents strongly cautioned. May be unsuitable ...                 90   \n",
       "3    Parents strongly cautioned. May be unsuitable ...                 90   \n",
       "4    Parental guidance suggested. May not be suitab...                 70   \n",
       "..                                                 ...                ...   \n",
       "989                  some rude humor and sports action                 60   \n",
       "993          General Audiences. Suitable for all ages.                 35   \n",
       "994          General Audiences. Suitable for all ages.                 35   \n",
       "997                             Suitable for all ages.                 35   \n",
       "998                             Suitable for all ages.                 35   \n",
       "\n",
       "     release year  user rating score  user rating size  \n",
       "0            2004               82.0                80  \n",
       "1            2006                NaN                82  \n",
       "2            2016               98.0                80  \n",
       "3            2008               98.0                80  \n",
       "4            2014               94.0                80  \n",
       "..            ...                ...               ...  \n",
       "989          2015                NaN                82  \n",
       "993          2015                NaN                82  \n",
       "994          2016                NaN                82  \n",
       "997          2003                NaN                82  \n",
       "998          2013                NaN                82  \n",
       "\n",
       "[500 rows x 7 columns]"
      ],
      "text/html": "<div>\n<style scoped>\n    .dataframe tbody tr th:only-of-type {\n        vertical-align: middle;\n    }\n\n    .dataframe tbody tr th {\n        vertical-align: top;\n    }\n\n    .dataframe thead th {\n        text-align: right;\n    }\n</style>\n<table border=\"1\" class=\"dataframe\">\n  <thead>\n    <tr style=\"text-align: right;\">\n      <th></th>\n      <th>title</th>\n      <th>rating</th>\n      <th>ratingLevel</th>\n      <th>ratingDescription</th>\n      <th>release year</th>\n      <th>user rating score</th>\n      <th>user rating size</th>\n    </tr>\n  </thead>\n  <tbody>\n    <tr>\n      <th>0</th>\n      <td>White Chicks</td>\n      <td>PG-13</td>\n      <td>crude and sexual humor, language and some drug...</td>\n      <td>80</td>\n      <td>2004</td>\n      <td>82.0</td>\n      <td>80</td>\n    </tr>\n    <tr>\n      <th>1</th>\n      <td>Lucky Number Slevin</td>\n      <td>R</td>\n      <td>strong violence, sexual content and adult lang...</td>\n      <td>100</td>\n      <td>2006</td>\n      <td>NaN</td>\n      <td>82</td>\n    </tr>\n    <tr>\n      <th>2</th>\n      <td>Grey's Anatomy</td>\n      <td>TV-14</td>\n      <td>Parents strongly cautioned. May be unsuitable ...</td>\n      <td>90</td>\n      <td>2016</td>\n      <td>98.0</td>\n      <td>80</td>\n    </tr>\n    <tr>\n      <th>3</th>\n      <td>Prison Break</td>\n      <td>TV-14</td>\n      <td>Parents strongly cautioned. May be unsuitable ...</td>\n      <td>90</td>\n      <td>2008</td>\n      <td>98.0</td>\n      <td>80</td>\n    </tr>\n    <tr>\n      <th>4</th>\n      <td>How I Met Your Mother</td>\n      <td>TV-PG</td>\n      <td>Parental guidance suggested. May not be suitab...</td>\n      <td>70</td>\n      <td>2014</td>\n      <td>94.0</td>\n      <td>80</td>\n    </tr>\n    <tr>\n      <th>...</th>\n      <td>...</td>\n      <td>...</td>\n      <td>...</td>\n      <td>...</td>\n      <td>...</td>\n      <td>...</td>\n      <td>...</td>\n    </tr>\n    <tr>\n      <th>989</th>\n      <td>Russell Madness</td>\n      <td>PG</td>\n      <td>some rude humor and sports action</td>\n      <td>60</td>\n      <td>2015</td>\n      <td>NaN</td>\n      <td>82</td>\n    </tr>\n    <tr>\n      <th>993</th>\n      <td>Wiener Dog Internationals</td>\n      <td>G</td>\n      <td>General Audiences. Suitable for all ages.</td>\n      <td>35</td>\n      <td>2015</td>\n      <td>NaN</td>\n      <td>82</td>\n    </tr>\n    <tr>\n      <th>994</th>\n      <td>Pup Star</td>\n      <td>G</td>\n      <td>General Audiences. Suitable for all ages.</td>\n      <td>35</td>\n      <td>2016</td>\n      <td>NaN</td>\n      <td>82</td>\n    </tr>\n    <tr>\n      <th>997</th>\n      <td>Precious Puppies</td>\n      <td>TV-G</td>\n      <td>Suitable for all ages.</td>\n      <td>35</td>\n      <td>2003</td>\n      <td>NaN</td>\n      <td>82</td>\n    </tr>\n    <tr>\n      <th>998</th>\n      <td>Beary Tales</td>\n      <td>TV-G</td>\n      <td>Suitable for all ages.</td>\n      <td>35</td>\n      <td>2013</td>\n      <td>NaN</td>\n      <td>82</td>\n    </tr>\n  </tbody>\n</table>\n<p>500 rows × 7 columns</p>\n</div>"
     },
     "metadata": {},
     "execution_count": 8
    }
   ],
   "source": [
    "df = df.drop_duplicates() \n",
    "df"
   ]
  },
  {
   "cell_type": "code",
   "execution_count": 10,
   "metadata": {},
   "outputs": [
    {
     "output_type": "execute_result",
     "data": {
      "text/plain": [
       "                         title rating  \\\n",
       "0                 White Chicks  PG-13   \n",
       "1          Lucky Number Slevin      R   \n",
       "2               Grey's Anatomy  TV-14   \n",
       "3                 Prison Break  TV-14   \n",
       "4        How I Met Your Mother  TV-PG   \n",
       "..                         ...    ...   \n",
       "989            Russell Madness     PG   \n",
       "993  Wiener Dog Internationals      G   \n",
       "994                   Pup Star      G   \n",
       "997           Precious Puppies   TV-G   \n",
       "998                Beary Tales   TV-G   \n",
       "\n",
       "                                           ratingLevel  ratingDescription  \\\n",
       "0    crude and sexual humor, language and some drug...                 80   \n",
       "1    strong violence, sexual content and adult lang...                100   \n",
       "2    Parents strongly cautioned. May be unsuitable ...                 90   \n",
       "3    Parents strongly cautioned. May be unsuitable ...                 90   \n",
       "4    Parental guidance suggested. May not be suitab...                 70   \n",
       "..                                                 ...                ...   \n",
       "989                  some rude humor and sports action                 60   \n",
       "993          General Audiences. Suitable for all ages.                 35   \n",
       "994          General Audiences. Suitable for all ages.                 35   \n",
       "997                             Suitable for all ages.                 35   \n",
       "998                             Suitable for all ages.                 35   \n",
       "\n",
       "     release year  user rating score  user rating size  \n",
       "0            2004               82.0                80  \n",
       "1            2006               82.0                82  \n",
       "2            2016               98.0                80  \n",
       "3            2008               98.0                80  \n",
       "4            2014               94.0                80  \n",
       "..            ...                ...               ...  \n",
       "989          2015               74.0                82  \n",
       "993          2015               74.0                82  \n",
       "994          2016               74.0                82  \n",
       "997          2003               74.0                82  \n",
       "998          2013               74.0                82  \n",
       "\n",
       "[500 rows x 7 columns]"
      ],
      "text/html": "<div>\n<style scoped>\n    .dataframe tbody tr th:only-of-type {\n        vertical-align: middle;\n    }\n\n    .dataframe tbody tr th {\n        vertical-align: top;\n    }\n\n    .dataframe thead th {\n        text-align: right;\n    }\n</style>\n<table border=\"1\" class=\"dataframe\">\n  <thead>\n    <tr style=\"text-align: right;\">\n      <th></th>\n      <th>title</th>\n      <th>rating</th>\n      <th>ratingLevel</th>\n      <th>ratingDescription</th>\n      <th>release year</th>\n      <th>user rating score</th>\n      <th>user rating size</th>\n    </tr>\n  </thead>\n  <tbody>\n    <tr>\n      <th>0</th>\n      <td>White Chicks</td>\n      <td>PG-13</td>\n      <td>crude and sexual humor, language and some drug...</td>\n      <td>80</td>\n      <td>2004</td>\n      <td>82.0</td>\n      <td>80</td>\n    </tr>\n    <tr>\n      <th>1</th>\n      <td>Lucky Number Slevin</td>\n      <td>R</td>\n      <td>strong violence, sexual content and adult lang...</td>\n      <td>100</td>\n      <td>2006</td>\n      <td>82.0</td>\n      <td>82</td>\n    </tr>\n    <tr>\n      <th>2</th>\n      <td>Grey's Anatomy</td>\n      <td>TV-14</td>\n      <td>Parents strongly cautioned. May be unsuitable ...</td>\n      <td>90</td>\n      <td>2016</td>\n      <td>98.0</td>\n      <td>80</td>\n    </tr>\n    <tr>\n      <th>3</th>\n      <td>Prison Break</td>\n      <td>TV-14</td>\n      <td>Parents strongly cautioned. May be unsuitable ...</td>\n      <td>90</td>\n      <td>2008</td>\n      <td>98.0</td>\n      <td>80</td>\n    </tr>\n    <tr>\n      <th>4</th>\n      <td>How I Met Your Mother</td>\n      <td>TV-PG</td>\n      <td>Parental guidance suggested. May not be suitab...</td>\n      <td>70</td>\n      <td>2014</td>\n      <td>94.0</td>\n      <td>80</td>\n    </tr>\n    <tr>\n      <th>...</th>\n      <td>...</td>\n      <td>...</td>\n      <td>...</td>\n      <td>...</td>\n      <td>...</td>\n      <td>...</td>\n      <td>...</td>\n    </tr>\n    <tr>\n      <th>989</th>\n      <td>Russell Madness</td>\n      <td>PG</td>\n      <td>some rude humor and sports action</td>\n      <td>60</td>\n      <td>2015</td>\n      <td>74.0</td>\n      <td>82</td>\n    </tr>\n    <tr>\n      <th>993</th>\n      <td>Wiener Dog Internationals</td>\n      <td>G</td>\n      <td>General Audiences. Suitable for all ages.</td>\n      <td>35</td>\n      <td>2015</td>\n      <td>74.0</td>\n      <td>82</td>\n    </tr>\n    <tr>\n      <th>994</th>\n      <td>Pup Star</td>\n      <td>G</td>\n      <td>General Audiences. Suitable for all ages.</td>\n      <td>35</td>\n      <td>2016</td>\n      <td>74.0</td>\n      <td>82</td>\n    </tr>\n    <tr>\n      <th>997</th>\n      <td>Precious Puppies</td>\n      <td>TV-G</td>\n      <td>Suitable for all ages.</td>\n      <td>35</td>\n      <td>2003</td>\n      <td>74.0</td>\n      <td>82</td>\n    </tr>\n    <tr>\n      <th>998</th>\n      <td>Beary Tales</td>\n      <td>TV-G</td>\n      <td>Suitable for all ages.</td>\n      <td>35</td>\n      <td>2013</td>\n      <td>74.0</td>\n      <td>82</td>\n    </tr>\n  </tbody>\n</table>\n<p>500 rows × 7 columns</p>\n</div>"
     },
     "metadata": {},
     "execution_count": 10
    }
   ],
   "source": [
    "df = df.fillna(method=\"ffill\")\n",
    "df"
   ]
  },
  {
   "cell_type": "code",
   "execution_count": 15,
   "metadata": {},
   "outputs": [
    {
     "output_type": "execute_result",
     "data": {
      "text/plain": [
       "<bound method DataFrame.any of      title  rating  ratingLevel  ratingDescription  release year  \\\n",
       "0    False   False        False              False         False   \n",
       "1    False   False        False              False         False   \n",
       "2    False   False        False              False         False   \n",
       "3    False   False        False              False         False   \n",
       "4    False   False        False              False         False   \n",
       "..     ...     ...          ...                ...           ...   \n",
       "989  False   False        False              False         False   \n",
       "993  False   False        False              False         False   \n",
       "994  False   False        False              False         False   \n",
       "997  False   False        False              False         False   \n",
       "998  False   False        False              False         False   \n",
       "\n",
       "     user rating score  user rating size  \n",
       "0                False             False  \n",
       "1                False             False  \n",
       "2                False             False  \n",
       "3                False             False  \n",
       "4                False             False  \n",
       "..                 ...               ...  \n",
       "989              False             False  \n",
       "993              False             False  \n",
       "994              False             False  \n",
       "997              False             False  \n",
       "998              False             False  \n",
       "\n",
       "[500 rows x 7 columns]>"
      ]
     },
     "metadata": {},
     "execution_count": 15
    }
   ],
   "source": [
    "pd.isnull(df).any  # Checking for Null Values"
   ]
  },
  {
   "source": [
    "# Exploratory Data Analysis"
   ],
   "cell_type": "markdown",
   "metadata": {}
  },
  {
   "cell_type": "code",
   "execution_count": 11,
   "metadata": {},
   "outputs": [
    {
     "output_type": "execute_result",
     "data": {
      "text/plain": [
       "                   title rating  \\\n",
       "0           White Chicks  PG-13   \n",
       "1    Lucky Number Slevin      R   \n",
       "2         Grey's Anatomy  TV-14   \n",
       "3           Prison Break  TV-14   \n",
       "4  How I Met Your Mother  TV-PG   \n",
       "\n",
       "                                         ratingLevel  ratingDescription  \\\n",
       "0  crude and sexual humor, language and some drug...                 80   \n",
       "1  strong violence, sexual content and adult lang...                100   \n",
       "2  Parents strongly cautioned. May be unsuitable ...                 90   \n",
       "3  Parents strongly cautioned. May be unsuitable ...                 90   \n",
       "4  Parental guidance suggested. May not be suitab...                 70   \n",
       "\n",
       "   release year  user rating score  user rating size  \n",
       "0          2004               82.0                80  \n",
       "1          2006               82.0                82  \n",
       "2          2016               98.0                80  \n",
       "3          2008               98.0                80  \n",
       "4          2014               94.0                80  "
      ],
      "text/html": "<div>\n<style scoped>\n    .dataframe tbody tr th:only-of-type {\n        vertical-align: middle;\n    }\n\n    .dataframe tbody tr th {\n        vertical-align: top;\n    }\n\n    .dataframe thead th {\n        text-align: right;\n    }\n</style>\n<table border=\"1\" class=\"dataframe\">\n  <thead>\n    <tr style=\"text-align: right;\">\n      <th></th>\n      <th>title</th>\n      <th>rating</th>\n      <th>ratingLevel</th>\n      <th>ratingDescription</th>\n      <th>release year</th>\n      <th>user rating score</th>\n      <th>user rating size</th>\n    </tr>\n  </thead>\n  <tbody>\n    <tr>\n      <th>0</th>\n      <td>White Chicks</td>\n      <td>PG-13</td>\n      <td>crude and sexual humor, language and some drug...</td>\n      <td>80</td>\n      <td>2004</td>\n      <td>82.0</td>\n      <td>80</td>\n    </tr>\n    <tr>\n      <th>1</th>\n      <td>Lucky Number Slevin</td>\n      <td>R</td>\n      <td>strong violence, sexual content and adult lang...</td>\n      <td>100</td>\n      <td>2006</td>\n      <td>82.0</td>\n      <td>82</td>\n    </tr>\n    <tr>\n      <th>2</th>\n      <td>Grey's Anatomy</td>\n      <td>TV-14</td>\n      <td>Parents strongly cautioned. May be unsuitable ...</td>\n      <td>90</td>\n      <td>2016</td>\n      <td>98.0</td>\n      <td>80</td>\n    </tr>\n    <tr>\n      <th>3</th>\n      <td>Prison Break</td>\n      <td>TV-14</td>\n      <td>Parents strongly cautioned. May be unsuitable ...</td>\n      <td>90</td>\n      <td>2008</td>\n      <td>98.0</td>\n      <td>80</td>\n    </tr>\n    <tr>\n      <th>4</th>\n      <td>How I Met Your Mother</td>\n      <td>TV-PG</td>\n      <td>Parental guidance suggested. May not be suitab...</td>\n      <td>70</td>\n      <td>2014</td>\n      <td>94.0</td>\n      <td>80</td>\n    </tr>\n  </tbody>\n</table>\n</div>"
     },
     "metadata": {},
     "execution_count": 11
    }
   ],
   "source": [
    "df.head()"
   ]
  },
  {
   "cell_type": "code",
   "execution_count": 12,
   "metadata": {},
   "outputs": [
    {
     "output_type": "execute_result",
     "data": {
      "text/plain": [
       "                         title rating  \\\n",
       "989            Russell Madness     PG   \n",
       "993  Wiener Dog Internationals      G   \n",
       "994                   Pup Star      G   \n",
       "997           Precious Puppies   TV-G   \n",
       "998                Beary Tales   TV-G   \n",
       "\n",
       "                                   ratingLevel  ratingDescription  \\\n",
       "989          some rude humor and sports action                 60   \n",
       "993  General Audiences. Suitable for all ages.                 35   \n",
       "994  General Audiences. Suitable for all ages.                 35   \n",
       "997                     Suitable for all ages.                 35   \n",
       "998                     Suitable for all ages.                 35   \n",
       "\n",
       "     release year  user rating score  user rating size  \n",
       "989          2015               74.0                82  \n",
       "993          2015               74.0                82  \n",
       "994          2016               74.0                82  \n",
       "997          2003               74.0                82  \n",
       "998          2013               74.0                82  "
      ],
      "text/html": "<div>\n<style scoped>\n    .dataframe tbody tr th:only-of-type {\n        vertical-align: middle;\n    }\n\n    .dataframe tbody tr th {\n        vertical-align: top;\n    }\n\n    .dataframe thead th {\n        text-align: right;\n    }\n</style>\n<table border=\"1\" class=\"dataframe\">\n  <thead>\n    <tr style=\"text-align: right;\">\n      <th></th>\n      <th>title</th>\n      <th>rating</th>\n      <th>ratingLevel</th>\n      <th>ratingDescription</th>\n      <th>release year</th>\n      <th>user rating score</th>\n      <th>user rating size</th>\n    </tr>\n  </thead>\n  <tbody>\n    <tr>\n      <th>989</th>\n      <td>Russell Madness</td>\n      <td>PG</td>\n      <td>some rude humor and sports action</td>\n      <td>60</td>\n      <td>2015</td>\n      <td>74.0</td>\n      <td>82</td>\n    </tr>\n    <tr>\n      <th>993</th>\n      <td>Wiener Dog Internationals</td>\n      <td>G</td>\n      <td>General Audiences. Suitable for all ages.</td>\n      <td>35</td>\n      <td>2015</td>\n      <td>74.0</td>\n      <td>82</td>\n    </tr>\n    <tr>\n      <th>994</th>\n      <td>Pup Star</td>\n      <td>G</td>\n      <td>General Audiences. Suitable for all ages.</td>\n      <td>35</td>\n      <td>2016</td>\n      <td>74.0</td>\n      <td>82</td>\n    </tr>\n    <tr>\n      <th>997</th>\n      <td>Precious Puppies</td>\n      <td>TV-G</td>\n      <td>Suitable for all ages.</td>\n      <td>35</td>\n      <td>2003</td>\n      <td>74.0</td>\n      <td>82</td>\n    </tr>\n    <tr>\n      <th>998</th>\n      <td>Beary Tales</td>\n      <td>TV-G</td>\n      <td>Suitable for all ages.</td>\n      <td>35</td>\n      <td>2013</td>\n      <td>74.0</td>\n      <td>82</td>\n    </tr>\n  </tbody>\n</table>\n</div>"
     },
     "metadata": {},
     "execution_count": 12
    }
   ],
   "source": [
    "df.tail()"
   ]
  },
  {
   "cell_type": "code",
   "execution_count": 13,
   "metadata": {},
   "outputs": [
    {
     "output_type": "execute_result",
     "data": {
      "text/plain": [
       "       ratingDescription  release year  user rating score  user rating size\n",
       "count         500.000000    500.000000          500.00000        500.000000\n",
       "mean           68.754000   2010.976000           78.35400         80.972000\n",
       "std            31.505089      7.829305           12.47204          0.998604\n",
       "min            10.000000   1940.000000           55.00000         80.000000\n",
       "25%            41.000000   2009.000000           70.00000         80.000000\n",
       "50%            70.000000   2014.000000           79.00000         80.000000\n",
       "75%            90.000000   2016.000000           90.00000         82.000000\n",
       "max           124.000000   2017.000000           99.00000         82.000000"
      ],
      "text/html": "<div>\n<style scoped>\n    .dataframe tbody tr th:only-of-type {\n        vertical-align: middle;\n    }\n\n    .dataframe tbody tr th {\n        vertical-align: top;\n    }\n\n    .dataframe thead th {\n        text-align: right;\n    }\n</style>\n<table border=\"1\" class=\"dataframe\">\n  <thead>\n    <tr style=\"text-align: right;\">\n      <th></th>\n      <th>ratingDescription</th>\n      <th>release year</th>\n      <th>user rating score</th>\n      <th>user rating size</th>\n    </tr>\n  </thead>\n  <tbody>\n    <tr>\n      <th>count</th>\n      <td>500.000000</td>\n      <td>500.000000</td>\n      <td>500.00000</td>\n      <td>500.000000</td>\n    </tr>\n    <tr>\n      <th>mean</th>\n      <td>68.754000</td>\n      <td>2010.976000</td>\n      <td>78.35400</td>\n      <td>80.972000</td>\n    </tr>\n    <tr>\n      <th>std</th>\n      <td>31.505089</td>\n      <td>7.829305</td>\n      <td>12.47204</td>\n      <td>0.998604</td>\n    </tr>\n    <tr>\n      <th>min</th>\n      <td>10.000000</td>\n      <td>1940.000000</td>\n      <td>55.00000</td>\n      <td>80.000000</td>\n    </tr>\n    <tr>\n      <th>25%</th>\n      <td>41.000000</td>\n      <td>2009.000000</td>\n      <td>70.00000</td>\n      <td>80.000000</td>\n    </tr>\n    <tr>\n      <th>50%</th>\n      <td>70.000000</td>\n      <td>2014.000000</td>\n      <td>79.00000</td>\n      <td>80.000000</td>\n    </tr>\n    <tr>\n      <th>75%</th>\n      <td>90.000000</td>\n      <td>2016.000000</td>\n      <td>90.00000</td>\n      <td>82.000000</td>\n    </tr>\n    <tr>\n      <th>max</th>\n      <td>124.000000</td>\n      <td>2017.000000</td>\n      <td>99.00000</td>\n      <td>82.000000</td>\n    </tr>\n  </tbody>\n</table>\n</div>"
     },
     "metadata": {},
     "execution_count": 13
    }
   ],
   "source": [
    "df.describe()"
   ]
  },
  {
   "cell_type": "code",
   "execution_count": 14,
   "metadata": {},
   "outputs": [
    {
     "output_type": "stream",
     "name": "stdout",
     "text": [
      "<class 'pandas.core.frame.DataFrame'>\nInt64Index: 500 entries, 0 to 998\nData columns (total 7 columns):\n #   Column             Non-Null Count  Dtype  \n---  ------             --------------  -----  \n 0   title              500 non-null    object \n 1   rating             500 non-null    object \n 2   ratingLevel        500 non-null    object \n 3   ratingDescription  500 non-null    int64  \n 4   release year       500 non-null    int64  \n 5   user rating score  500 non-null    float64\n 6   user rating size   500 non-null    int64  \ndtypes: float64(1), int64(3), object(3)\nmemory usage: 51.2+ KB\n"
     ]
    }
   ],
   "source": [
    "df.info()"
   ]
  },
  {
   "cell_type": "code",
   "execution_count": 17,
   "metadata": {},
   "outputs": [
    {
     "output_type": "execute_result",
     "data": {
      "text/plain": [
       "(500, 7)"
      ]
     },
     "metadata": {},
     "execution_count": 17
    }
   ],
   "source": [
    "df.shape"
   ]
  },
  {
   "cell_type": "code",
   "execution_count": 18,
   "metadata": {},
   "outputs": [
    {
     "output_type": "execute_result",
     "data": {
      "text/plain": [
       "Index(['title', 'rating', 'ratingLevel', 'ratingDescription', 'release year',\n",
       "       'user rating score', 'user rating size'],\n",
       "      dtype='object')"
      ]
     },
     "metadata": {},
     "execution_count": 18
    }
   ],
   "source": [
    "df.columns"
   ]
  },
  {
   "cell_type": "code",
   "execution_count": null,
   "metadata": {},
   "outputs": [],
   "source": []
  }
 ]
}